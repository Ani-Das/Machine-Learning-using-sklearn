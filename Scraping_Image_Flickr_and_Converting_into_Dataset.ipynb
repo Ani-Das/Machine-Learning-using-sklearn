{
  "nbformat": 4,
  "nbformat_minor": 0,
  "metadata": {
    "colab": {
      "name": "Scraping Image Flickr and Converting into Dataset.ipynb",
      "provenance": [],
      "collapsed_sections": [],
      "mount_file_id": "1p41o1LvrvMgQo-M-jo939AOUKLkJwUIf",
      "authorship_tag": "ABX9TyOWKIVBtjyfih2Z8KEMJ1He",
      "include_colab_link": true
    },
    "kernelspec": {
      "name": "python3",
      "display_name": "Python 3"
    }
  },
  "cells": [
    {
      "cell_type": "markdown",
      "metadata": {
        "id": "view-in-github",
        "colab_type": "text"
      },
      "source": [
        "<a href=\"https://colab.research.google.com/github/diazonic/Machine-Learning-using-sklearn/blob/master/Scraping_Image_Flickr_and_Converting_into_Dataset.ipynb\" target=\"_parent\"><img src=\"https://colab.research.google.com/assets/colab-badge.svg\" alt=\"Open In Colab\"/></a>"
      ]
    },
    {
      "cell_type": "code",
      "metadata": {
        "id": "CF0GyTDottCT",
        "colab_type": "code",
        "colab": {
          "base_uri": "https://localhost:8080/",
          "height": 188
        },
        "outputId": "55d8dbd3-0fb0-4975-ceff-4ae153966578"
      },
      "source": [
        "!pip install ipython-autotime\n",
        " \n",
        "%load_ext autotime"
      ],
      "execution_count": 1,
      "outputs": [
        {
          "output_type": "stream",
          "text": [
            "Collecting ipython-autotime\n",
            "  Downloading https://files.pythonhosted.org/packages/e6/f9/0626bbdb322e3a078d968e87e3b01341e7890544de891d0cb613641220e6/ipython-autotime-0.1.tar.bz2\n",
            "Building wheels for collected packages: ipython-autotime\n",
            "  Building wheel for ipython-autotime (setup.py) ... \u001b[?25l\u001b[?25hdone\n",
            "  Created wheel for ipython-autotime: filename=ipython_autotime-0.1-cp36-none-any.whl size=1831 sha256=60717265a3a45be6bd95e831f1fb6e94aed57df0481e17bb7c53a5feec500d5f\n",
            "  Stored in directory: /root/.cache/pip/wheels/d2/df/81/2db1e54bc91002cec40334629bc39cfa86dff540b304ebcd6e\n",
            "Successfully built ipython-autotime\n",
            "Installing collected packages: ipython-autotime\n",
            "Successfully installed ipython-autotime-0.1\n"
          ],
          "name": "stdout"
        }
      ]
    },
    {
      "cell_type": "code",
      "metadata": {
        "id": "utRzHmqApved",
        "colab_type": "code",
        "colab": {
          "base_uri": "https://localhost:8080/",
          "height": 119
        },
        "outputId": "8bdb71ad-ba4a-4c68-fcbd-aa2292bce103"
      },
      "source": [
        "!git clone https://github.com/ultralytics/flickr_scraper"
      ],
      "execution_count": null,
      "outputs": [
        {
          "output_type": "stream",
          "text": [
            "Cloning into 'flickr_scraper'...\n",
            "remote: Enumerating objects: 91, done.\u001b[K\n",
            "remote: Counting objects: 100% (91/91), done.\u001b[K\n",
            "remote: Compressing objects: 100% (74/74), done.\u001b[K\n",
            "remote: Total 91 (delta 53), reused 40 (delta 16), pack-reused 0\u001b[K\n",
            "Unpacking objects: 100% (91/91), done.\n"
          ],
          "name": "stdout"
        }
      ]
    },
    {
      "cell_type": "code",
      "metadata": {
        "id": "YK3d6njRpz1G",
        "colab_type": "code",
        "colab": {
          "base_uri": "https://localhost:8080/",
          "height": 34
        },
        "outputId": "af0603dc-c09b-4224-a0ff-8f7515cc1ce1"
      },
      "source": [
        "!ls"
      ],
      "execution_count": null,
      "outputs": [
        {
          "output_type": "stream",
          "text": [
            "flickr_scraper\tsample_data\n"
          ],
          "name": "stdout"
        }
      ]
    },
    {
      "cell_type": "code",
      "metadata": {
        "id": "M3nnU32tqEN1",
        "colab_type": "code",
        "colab": {
          "base_uri": "https://localhost:8080/",
          "height": 34
        },
        "outputId": "888bbcb0-fcab-452e-ee69-1f77db6bda3a"
      },
      "source": [
        "cd flickr_scraper/"
      ],
      "execution_count": null,
      "outputs": [
        {
          "output_type": "stream",
          "text": [
            "/content/flickr_scraper\n"
          ],
          "name": "stdout"
        }
      ]
    },
    {
      "cell_type": "code",
      "metadata": {
        "id": "8S12o6DWqGLj",
        "colab_type": "code",
        "colab": {
          "base_uri": "https://localhost:8080/",
          "height": 292
        },
        "outputId": "88b97b25-8cc4-4257-add7-d04a7f458c4b"
      },
      "source": [
        "!pip install -U -r requirements.txt"
      ],
      "execution_count": null,
      "outputs": [
        {
          "output_type": "stream",
          "text": [
            "Collecting flickrapi\n",
            "  Downloading https://files.pythonhosted.org/packages/76/d7/291b7f0f02cf0f59460f7bcc15192905b4c61e13b9fb9263ee86b0a5f647/flickrapi-2.4.0-py2.py3-none-any.whl\n",
            "Requirement already satisfied, skipping upgrade: requests-oauthlib>=0.4.0 in /usr/local/lib/python3.6/dist-packages (from flickrapi->-r requirements.txt (line 2)) (1.3.0)\n",
            "Requirement already satisfied, skipping upgrade: requests>=2.2.1 in /usr/local/lib/python3.6/dist-packages (from flickrapi->-r requirements.txt (line 2)) (2.23.0)\n",
            "Requirement already satisfied, skipping upgrade: six>=1.5.2 in /usr/local/lib/python3.6/dist-packages (from flickrapi->-r requirements.txt (line 2)) (1.15.0)\n",
            "Collecting requests-toolbelt>=0.3.1\n",
            "\u001b[?25l  Downloading https://files.pythonhosted.org/packages/60/ef/7681134338fc097acef8d9b2f8abe0458e4d87559c689a8c306d0957ece5/requests_toolbelt-0.9.1-py2.py3-none-any.whl (54kB)\n",
            "\u001b[K     |████████████████████████████████| 61kB 3.2MB/s \n",
            "\u001b[?25hRequirement already satisfied, skipping upgrade: oauthlib>=3.0.0 in /usr/local/lib/python3.6/dist-packages (from requests-oauthlib>=0.4.0->flickrapi->-r requirements.txt (line 2)) (3.1.0)\n",
            "Requirement already satisfied, skipping upgrade: certifi>=2017.4.17 in /usr/local/lib/python3.6/dist-packages (from requests>=2.2.1->flickrapi->-r requirements.txt (line 2)) (2020.6.20)\n",
            "Requirement already satisfied, skipping upgrade: urllib3!=1.25.0,!=1.25.1,<1.26,>=1.21.1 in /usr/local/lib/python3.6/dist-packages (from requests>=2.2.1->flickrapi->-r requirements.txt (line 2)) (1.24.3)\n",
            "Requirement already satisfied, skipping upgrade: chardet<4,>=3.0.2 in /usr/local/lib/python3.6/dist-packages (from requests>=2.2.1->flickrapi->-r requirements.txt (line 2)) (3.0.4)\n",
            "Requirement already satisfied, skipping upgrade: idna<3,>=2.5 in /usr/local/lib/python3.6/dist-packages (from requests>=2.2.1->flickrapi->-r requirements.txt (line 2)) (2.10)\n",
            "Installing collected packages: requests-toolbelt, flickrapi\n",
            "Successfully installed flickrapi-2.4.0 requests-toolbelt-0.9.1\n"
          ],
          "name": "stdout"
        }
      ]
    },
    {
      "cell_type": "code",
      "metadata": {
        "id": "ynJzwbwFvyZk",
        "colab_type": "code",
        "colab": {
          "base_uri": "https://localhost:8080/",
          "height": 34
        },
        "outputId": "02030fca-853b-498f-ca47-3296c97dbfc3"
      },
      "source": [
        "cd /content/drive/My Drive/Diazonic Files/ML/SVM/flickr_scraper-master/flickr_scraper-master"
      ],
      "execution_count": null,
      "outputs": [
        {
          "output_type": "stream",
          "text": [
            "/content/drive/My Drive/Diazonic Files/ML/SVM/flickr_scraper-master/flickr_scraper-master\n"
          ],
          "name": "stdout"
        }
      ]
    },
    {
      "cell_type": "code",
      "metadata": {
        "id": "bgKlOn25qJn6",
        "colab_type": "code",
        "colab": {
          "base_uri": "https://localhost:8080/",
          "height": 921
        },
        "outputId": "cfcb3fbc-82fc-4562-8e35-e9d9d077b240"
      },
      "source": [
        "!python flickr_scraper.py --search 'apple' --n 50 --download"
      ],
      "execution_count": null,
      "outputs": [
        {
          "output_type": "stream",
          "text": [
            "0/50 https://farm3.staticflickr.com/2950/15165630350_d6c66a346c_b.jpg\n",
            "1/50 https://farm1.staticflickr.com/647/21982802134_e4c135c7f8_b.jpg\n",
            "2/50 https://farm6.staticflickr.com/5805/22255280684_6e706b08d1_b.jpg\n",
            "3/50 https://farm9.staticflickr.com/8589/16104491773_9cc84cfefc_b.jpg\n",
            "4/50 https://live.staticflickr.com/8661/16079378039_8376e15595_o.jpg\n",
            "5/50 https://live.staticflickr.com/5210/5381301033_f1e16537b7_o.jpg\n",
            "6/50 https://live.staticflickr.com/1012/4731447079_08ca733af8_o.jpg\n",
            "7/50 https://live.staticflickr.com/8251/8542300647_cdff73e3d2_o.jpg\n",
            "8/50 https://farm4.staticflickr.com/3037/3033956681_a8d1d5f6d1_b.jpg\n",
            "9/50 https://live.staticflickr.com/236/449806405_a9b9fdb96a_o.png\n",
            "10/50 https://live.staticflickr.com/5163/5380930175_e4d5b9518e_o.png\n",
            "11/50 https://live.staticflickr.com/3312/3207884924_af2fd33020_o.jpg\n",
            "12/50 https://live.staticflickr.com/7063/6860626645_eded5ea990_o.jpg\n",
            "13/50 https://farm9.staticflickr.com/8549/29521636782_3289c120f6_b.jpg\n",
            "14/50 https://live.staticflickr.com/7339/10414265306_3655e50c40_o.jpg\n",
            "15/50 https://live.staticflickr.com/3002/2899950676_87fff945d0_o.jpg\n",
            "16/50 https://live.staticflickr.com/3133/3160385171_19b14f1aa4_o.jpg\n",
            "17/50 https://live.staticflickr.com/8577/16613993262_1916ff1722_o.jpg\n",
            "18/50 https://farm3.staticflickr.com/2345/2133721692_6df8dcab88_b.jpg\n",
            "19/50 https://live.staticflickr.com/6163/6186159694_2bc6ab617c_o.jpg\n",
            "20/50 https://live.staticflickr.com/6144/6010041558_de8a141f11_o.jpg\n",
            "21/50 https://live.staticflickr.com/7034/6527434007_868263223e_o.jpg\n",
            "22/50 https://farm3.staticflickr.com/2163/2124102411_ff0437ff41_b.jpg\n",
            "23/50 https://live.staticflickr.com/7495/15662047908_63c567d739_o.jpg\n",
            "24/50 https://farm3.staticflickr.com/2590/4487320866_ff39c8a41e_b.jpg\n",
            "25/50 https://live.staticflickr.com/8352/8346288388_a805bef02b_o.jpg\n",
            "26/50 https://live.staticflickr.com/8724/17012160842_d133f3db14_o.jpg\n",
            "27/50 https://live.staticflickr.com/8657/30334151116_992c5ea00e_o.jpg\n",
            "28/50 https://farm9.staticflickr.com/8306/7967287074_170a9a73a3_b.jpg\n",
            "29/50 https://live.staticflickr.com/5145/5701302672_464ceecb7c_o.jpg\n",
            "30/50 https://farm3.staticflickr.com/2583/4129089943_c64329441e_b.jpg\n",
            "31/50 https://live.staticflickr.com/7222/7058569485_5a31664855_o.jpg\n",
            "32/50 https://farm7.staticflickr.com/6049/6265288663_3cb6636d29_b.jpg\n",
            "33/50 https://farm8.staticflickr.com/7166/6782437119_da994aa86c_b.jpg\n",
            "34/50 https://live.staticflickr.com/8052/8423248873_a72fb95d23_o.jpg\n",
            "35/50 https://farm7.staticflickr.com/6182/6042016463_8d5c8fba7a_b.jpg\n",
            "36/50 https://farm4.staticflickr.com/3332/3600866644_35794645b0_b.jpg\n",
            "37/50 https://live.staticflickr.com/49/162108241_e60bdb9ab7_o.png\n",
            "38/50 https://live.staticflickr.com/7018/6607741323_1dd7722e5f_o.jpg\n",
            "39/50 https://farm9.staticflickr.com/8649/16248524621_2216a1388d_b.jpg\n",
            "40/50 https://live.staticflickr.com/6145/5951079854_b85fe55784_o.jpg\n",
            "41/50 https://live.staticflickr.com/227/522232278_d8baa78f3c_o.jpg\n",
            "42/50 https://live.staticflickr.com/6114/6246270647_d8ba1f63a5_o.jpg\n",
            "43/50 https://live.staticflickr.com/5026/5553989661_2efe76d108_o.jpg\n",
            "44/50 https://live.staticflickr.com/5473/10570501464_09366038ea_o.jpg\n",
            "45/50 https://live.staticflickr.com/8004/7564588908_94d37c4807_o.jpg\n",
            "46/50 https://live.staticflickr.com/6210/6088899104_9412d0d844_o.jpg\n",
            "47/50 https://farm6.staticflickr.com/5251/5488647532_9e0b664949_b.jpg\n",
            "48/50 https://live.staticflickr.com/59/212833788_37b037de12_o.jpg\n",
            "49/50 https://farm6.staticflickr.com/5108/5587551412_fa3c7e9160_b.jpg\n",
            "Done. (19.2s)\n",
            "All images saved to /content/drive/My Drive/Diazonic Files/ML/SVM/flickr_scraper-master/flickr_scraper-master/images/apple/\n"
          ],
          "name": "stdout"
        }
      ]
    },
    {
      "cell_type": "code",
      "metadata": {
        "id": "pUK8rw6cvupU",
        "colab_type": "code",
        "colab": {
          "base_uri": "https://localhost:8080/",
          "height": 921
        },
        "outputId": "d0335c71-2f68-4ef4-f71b-200e2dfec00e"
      },
      "source": [
        "!python flickr_scraper.py --search 'pizza' --n 50 --download"
      ],
      "execution_count": null,
      "outputs": [
        {
          "output_type": "stream",
          "text": [
            "0/50 https://live.staticflickr.com/8242/8487666183_3eff3d2f23_o.jpg\n",
            "1/50 https://farm4.staticflickr.com/3043/2954676924_ab2fedbd47_b.jpg\n",
            "2/50 https://live.staticflickr.com/7758/17325476055_1e852a68e5_o.jpg\n",
            "3/50 https://live.staticflickr.com/4116/4872435618_fe773aa917_o.jpg\n",
            "4/50 https://live.staticflickr.com/4012/4703637309_9814305dbc_o.jpg\n",
            "5/50 https://live.staticflickr.com/7177/6825947764_cab7cae3c8_o.jpg\n",
            "6/50 https://live.staticflickr.com/5040/7060384125_7047ecdbff_o.jpg\n",
            "7/50 https://live.staticflickr.com/5589/15311806765_f7a94fd4dc_o.jpg\n",
            "8/50 https://live.staticflickr.com/5016/5524665573_ca4f37c949_o.jpg\n",
            "9/50 https://live.staticflickr.com/2808/9493011478_5ba1bab656_o.jpg\n",
            "10/50 https://live.staticflickr.com/5238/5913452967_c57550acbf_o.jpg\n",
            "11/50 https://live.staticflickr.com/2270/1912212340_5016fb525f_o.jpg\n",
            "12/50 https://live.staticflickr.com/1691/25037585162_9888fbf109_o.jpg\n",
            "13/50 https://live.staticflickr.com/2096/1912198498_e46283f552_o.jpg\n",
            "14/50 https://live.staticflickr.com/7255/6881156072_9ee97d0d9f_o.jpg\n",
            "15/50 https://live.staticflickr.com/8215/8314519232_01f8260924_o.jpg\n",
            "16/50 https://farm3.staticflickr.com/2307/2133682880_624aafa452_b.jpg\n",
            "17/50 https://farm6.staticflickr.com/5050/5299755370_0e0a237c27_b.jpg\n",
            "18/50 https://live.staticflickr.com/3618/3495871394_e9be6579f9_o.jpg\n",
            "19/50 https://live.staticflickr.com/3854/14301569740_a80a8c3653_o.jpg\n",
            "20/50 https://live.staticflickr.com/7030/6738693611_284d73b78e_o.jpg\n",
            "21/50 https://live.staticflickr.com/8004/7276865788_ee5db2abd9_o.jpg\n",
            "22/50 https://farm9.staticflickr.com/8523/8460042189_7f2caea21d_b.jpg\n",
            "23/50 https://live.staticflickr.com/8458/8061492584_e89996e62e_o.jpg\n",
            "24/50 https://live.staticflickr.com/3762/12244783725_86703b4981_o.jpg\n",
            "25/50 https://live.staticflickr.com/48/134560688_947a8af1ba_o.jpg\n",
            "26/50 https://farm4.staticflickr.com/3780/11724009434_df4cc32359_b.jpg\n",
            "27/50 https://farm9.staticflickr.com/8059/8157425302_3718676715_b.jpg\n",
            "28/50 https://farm9.staticflickr.com/8020/7511456832_e8c5b5051e_b.jpg\n",
            "29/50 https://live.staticflickr.com/5516/9671207930_8dfde6243b_o.jpg\n",
            "30/50 https://live.staticflickr.com/4144/4990271246_e2593276b6_o.jpg\n",
            "31/50 https://farm1.staticflickr.com/12/17403523_c057094671_b.jpg\n",
            "32/50 https://live.staticflickr.com/5161/5334767896_562f878369_o.jpg\n",
            "33/50 https://live.staticflickr.com/2478/3722478694_f2cd8d558c_o.jpg\n",
            "34/50 https://live.staticflickr.com/7265/7665998592_3f2fed4c5a_o.jpg\n",
            "35/50 https://live.staticflickr.com/3373/3330811774_c63fb144c8_o.jpg\n",
            "36/50 https://live.staticflickr.com/6089/6145682705_666893e84e_o.jpg\n",
            "37/50 https://live.staticflickr.com/7176/6817017008_f6d74822e4_o.jpg\n",
            "38/50 https://live.staticflickr.com/6089/6069206673_65bcb04876_o.jpg\n",
            "39/50 https://live.staticflickr.com/5053/5412266872_207ece330d_o.jpg\n",
            "40/50 https://live.staticflickr.com/1514/26595505461_f844147b93_o.jpg\n",
            "41/50 https://live.staticflickr.com/8016/7476110054_c87bc8ee6d_o.jpg\n",
            "42/50 https://live.staticflickr.com/3619/3630322910_8fb897497b_o.jpg\n",
            "43/50 https://live.staticflickr.com/5068/5668683027_2bdc454feb_o.jpg\n",
            "44/50 https://live.staticflickr.com/705/30905170833_5b56122411_o.jpg\n",
            "45/50 https://farm8.staticflickr.com/7006/6589034607_7e71df3f8a_b.jpg\n",
            "46/50 https://farm3.staticflickr.com/2660/4115449765_f579cda5c3_b.jpg\n",
            "47/50 https://live.staticflickr.com/6167/6180043723_c3a7254541_o.jpg\n",
            "48/50 https://live.staticflickr.com/4042/4343826912_7a09c4d2e8_o.jpg\n",
            "49/50 https://live.staticflickr.com/2662/3796018816_28090cdfce_o.jpg\n",
            "Done. (21.5s)\n",
            "All images saved to /content/drive/My Drive/Diazonic Files/ML/SVM/flickr_scraper-master/flickr_scraper-master/images/pizza/\n"
          ],
          "name": "stdout"
        }
      ]
    },
    {
      "cell_type": "code",
      "metadata": {
        "id": "L0IJ00O9xPb9",
        "colab_type": "code",
        "colab": {
          "base_uri": "https://localhost:8080/",
          "height": 34
        },
        "outputId": "e9a5c1e3-c062-4c67-842a-fe1a6e1d7ed0"
      },
      "source": [
        "from pathlib import Path\n",
        "import matplotlib.pyplot as plt\n",
        "import numpy as np\n",
        "\n",
        "from sklearn import svm, metrics, datasets\n",
        "from sklearn.utils import Bunch\n",
        "from sklearn.model_selection import GridSearchCV, train_test_split\n",
        "\n",
        "from skimage.io import imread\n",
        "from skimage.transform import resize"
      ],
      "execution_count": 2,
      "outputs": [
        {
          "output_type": "stream",
          "text": [
            "time: 1.11 s\n"
          ],
          "name": "stdout"
        }
      ]
    },
    {
      "cell_type": "code",
      "metadata": {
        "id": "l9WHSxXdxukI",
        "colab_type": "code",
        "colab": {
          "base_uri": "https://localhost:8080/",
          "height": 34
        },
        "outputId": "8b5e731f-7111-469a-d7d8-6716c16ecb2e"
      },
      "source": [
        "def load_image_files(container_path, dimension=(64, 64)):\n",
        "    \"\"\"\n",
        "    Load image files with categories as subfolder names \n",
        "    which performs like scikit-learn sample dataset\n",
        "    \n",
        "    Parameters\n",
        "    ----------\n",
        "    container_path : string or unicode\n",
        "        Path to the main folder holding one subfolder per category\n",
        "    dimension : tuple\n",
        "        size to which image are adjusted to\n",
        "        \n",
        "    Returns\n",
        "    -------\n",
        "    Bunch\n",
        "    \"\"\"\n",
        "    image_dir = Path(container_path)\n",
        "    folders = [directory for directory in image_dir.iterdir() if directory.is_dir()]\n",
        "    categories = [fo.name for fo in folders]\n",
        "\n",
        "    descr = \"A image classification dataset\"\n",
        "    images = []\n",
        "    flat_data = []\n",
        "    target = []\n",
        "    for i, direc in enumerate(folders):\n",
        "        for file in direc.iterdir():\n",
        "            img = imread(file)\n",
        "            img_resized = resize(img, dimension, anti_aliasing=True, mode='reflect')\n",
        "            flat_data.append(img_resized.flatten()) \n",
        "            images.append(img_resized)\n",
        "            target.append(i)\n",
        "    flat_data = np.array(flat_data)\n",
        "    target = np.array(target)\n",
        "    images = np.array(images)\n",
        "\n",
        "    return Bunch(data=flat_data,\n",
        "                 target=target,\n",
        "                 target_names=categories,\n",
        "                 images=images,\n",
        "                 DESCR=descr)"
      ],
      "execution_count": 3,
      "outputs": [
        {
          "output_type": "stream",
          "text": [
            "time: 21.8 ms\n"
          ],
          "name": "stdout"
        }
      ]
    },
    {
      "cell_type": "code",
      "metadata": {
        "id": "u8y04hw0xxi6",
        "colab_type": "code",
        "colab": {
          "base_uri": "https://localhost:8080/",
          "height": 34
        },
        "outputId": "138adfe3-faa2-4bed-be58-bad23354a9f8"
      },
      "source": [
        "image_dataset = load_image_files(\"/content/drive/My Drive/Diazonic Files/ML/SVM/flickr_scraper-master/flickr_scraper-master/images\")"
      ],
      "execution_count": 4,
      "outputs": [
        {
          "output_type": "stream",
          "text": [
            "time: 7min 14s\n"
          ],
          "name": "stdout"
        }
      ]
    },
    {
      "cell_type": "code",
      "metadata": {
        "id": "gXaZ0qnxyAbV",
        "colab_type": "code",
        "colab": {}
      },
      "source": [
        ""
      ],
      "execution_count": null,
      "outputs": []
    },
    {
      "cell_type": "code",
      "metadata": {
        "id": "C19Vzrg9xj6h",
        "colab_type": "code",
        "colab": {
          "base_uri": "https://localhost:8080/",
          "height": 34
        },
        "outputId": "7cc58de8-56ae-4e33-efa4-f9f670a5a876"
      },
      "source": [
        "image_dataset.keys()"
      ],
      "execution_count": 5,
      "outputs": [
        {
          "output_type": "execute_result",
          "data": {
            "text/plain": [
              "dict_keys(['data', 'target', 'target_names', 'images', 'DESCR'])"
            ]
          },
          "metadata": {
            "tags": []
          },
          "execution_count": 5
        },
        {
          "output_type": "stream",
          "text": [
            "time: 4.36 ms\n"
          ],
          "name": "stdout"
        }
      ]
    },
    {
      "cell_type": "code",
      "metadata": {
        "id": "4LTjFLE5GiTc",
        "colab_type": "code",
        "colab": {
          "base_uri": "https://localhost:8080/",
          "height": 101
        },
        "outputId": "97bfa9d3-7cc0-42f8-e7c5-fdd9c16f992d"
      },
      "source": [
        "image_dataset.target"
      ],
      "execution_count": 6,
      "outputs": [
        {
          "output_type": "execute_result",
          "data": {
            "text/plain": [
              "array([0, 0, 0, 0, 0, 0, 0, 0, 0, 0, 0, 0, 0, 0, 0, 0, 0, 0, 0, 0, 0, 0,\n",
              "       0, 0, 0, 0, 0, 0, 0, 0, 0, 0, 0, 0, 0, 0, 0, 0, 0, 0, 0, 0, 0, 0,\n",
              "       0, 0, 0, 0, 0, 0, 1, 1, 1, 1, 1, 1, 1, 1, 1, 1, 1, 1, 1, 1, 1, 1,\n",
              "       1, 1, 1, 1, 1, 1, 1, 1, 1, 1, 1, 1, 1, 1, 1, 1, 1, 1, 1, 1, 1, 1,\n",
              "       1, 1, 1, 1, 1, 1, 1, 1, 1, 1, 1, 1])"
            ]
          },
          "metadata": {
            "tags": []
          },
          "execution_count": 6
        },
        {
          "output_type": "stream",
          "text": [
            "time: 3.25 ms\n"
          ],
          "name": "stdout"
        }
      ]
    },
    {
      "cell_type": "code",
      "metadata": {
        "id": "bzfKtouqg9Ie",
        "colab_type": "code",
        "colab": {
          "base_uri": "https://localhost:8080/",
          "height": 315
        },
        "outputId": "1682e4b8-3cb4-419f-8063-8646bca8d50a"
      },
      "source": [
        "#Unique values in an Array\n",
        "%matplotlib inline\n",
        "unique,count = np.unique([image_dataset.target],return_counts=True)\n",
        "print(unique)\n",
        "print(count)\n",
        "plt.bar(image_dataset.target_names,count)\n",
        "plt.show()"
      ],
      "execution_count": 7,
      "outputs": [
        {
          "output_type": "stream",
          "text": [
            "[0 1]\n",
            "[50 50]\n"
          ],
          "name": "stdout"
        },
        {
          "output_type": "display_data",
          "data": {
            "image/png": "[encoded data removed]",
            "text/plain": [
              "<Figure size 432x288 with 1 Axes>"
            ]
          },
          "metadata": {
            "tags": [],
            "needs_background": "light"
          }
        },
        {
          "output_type": "stream",
          "text": [
            "time: 153 ms\n"
          ],
          "name": "stdout"
        }
      ]
    },
    {
      "cell_type": "code",
      "metadata": {
        "id": "ku8IQgsMx5L5",
        "colab_type": "code",
        "colab": {
          "base_uri": "https://localhost:8080/",
          "height": 285
        },
        "outputId": "490f9df8-3e40-45f7-dec4-dfc0cf2fb2a7"
      },
      "source": [
        "%matplotlib inline\n",
        "plt.imshow(image_dataset['images'][80])\n",
        "plt.show()"
      ],
      "execution_count": 8,
      "outputs": [
        {
          "output_type": "display_data",
          "data": {
            "image/png": "[encoded data removed]",
            "text/plain": [
              "<Figure size 432x288 with 1 Axes>"
            ]
          },
          "metadata": {
            "tags": [],
            "needs_background": "light"
          }
        },
        {
          "output_type": "stream",
          "text": [
            "time: 253 ms\n"
          ],
          "name": "stdout"
        }
      ]
    },
    {
      "cell_type": "code",
      "metadata": {
        "id": "daIGV3DgyZ8s",
        "colab_type": "code",
        "colab": {
          "base_uri": "https://localhost:8080/",
          "height": 34
        },
        "outputId": "382812fa-4f15-459d-a5e5-7ee3f3b65e4e"
      },
      "source": [
        "image_dataset['images'][0].shape"
      ],
      "execution_count": 9,
      "outputs": [
        {
          "output_type": "execute_result",
          "data": {
            "text/plain": [
              "(64, 64, 3)"
            ]
          },
          "metadata": {
            "tags": []
          },
          "execution_count": 9
        },
        {
          "output_type": "stream",
          "text": [
            "time: 3.53 ms\n"
          ],
          "name": "stdout"
        }
      ]
    },
    {
      "cell_type": "code",
      "metadata": {
        "id": "h1om8Ww1KsJm",
        "colab_type": "code",
        "colab": {
          "base_uri": "https://localhost:8080/",
          "height": 840
        },
        "outputId": "b632cb54-7a05-420b-b4c5-bc7bccc3ed74"
      },
      "source": [
        "image_dataset['images'][0]"
      ],
      "execution_count": 10,
      "outputs": [
        {
          "output_type": "execute_result",
          "data": {
            "text/plain": [
              "array([[[0.        , 0.        , 0.        ],\n",
              "        [0.        , 0.        , 0.        ],\n",
              "        [0.        , 0.        , 0.        ],\n",
              "        ...,\n",
              "        [0.05882353, 0.09803922, 0.10228248],\n",
              "        [0.06666667, 0.10588235, 0.10980392],\n",
              "        [0.07058824, 0.10980392, 0.11764706]],\n",
              "\n",
              "       [[0.        , 0.        , 0.        ],\n",
              "        [0.        , 0.        , 0.        ],\n",
              "        [0.        , 0.        , 0.        ],\n",
              "        ...,\n",
              "        [0.05586703, 0.09019608, 0.0970435 ],\n",
              "        [0.0627451 , 0.09604779, 0.10196078],\n",
              "        [0.06666667, 0.10196078, 0.10980392]],\n",
              "\n",
              "       [[0.        , 0.        , 0.        ],\n",
              "        [0.        , 0.        , 0.        ],\n",
              "        [0.        , 0.        , 0.        ],\n",
              "        ...,\n",
              "        [0.05098039, 0.08235294, 0.09019608],\n",
              "        [0.05882353, 0.09019608, 0.09803922],\n",
              "        [0.0627451 , 0.09411765, 0.10196078]],\n",
              "\n",
              "       ...,\n",
              "\n",
              "       [[0.        , 0.        , 0.        ],\n",
              "        [0.        , 0.        , 0.        ],\n",
              "        [0.        , 0.        , 0.        ],\n",
              "        ...,\n",
              "        [0.00392157, 0.        , 0.        ],\n",
              "        [0.00392157, 0.        , 0.        ],\n",
              "        [0.00392157, 0.        , 0.        ]],\n",
              "\n",
              "       [[0.        , 0.        , 0.        ],\n",
              "        [0.        , 0.        , 0.        ],\n",
              "        [0.        , 0.        , 0.        ],\n",
              "        ...,\n",
              "        [0.00392157, 0.        , 0.        ],\n",
              "        [0.00392157, 0.        , 0.        ],\n",
              "        [0.00392157, 0.        , 0.        ]],\n",
              "\n",
              "       [[0.        , 0.        , 0.        ],\n",
              "        [0.        , 0.        , 0.        ],\n",
              "        [0.        , 0.        , 0.        ],\n",
              "        ...,\n",
              "        [0.00392157, 0.        , 0.        ],\n",
              "        [0.00392157, 0.        , 0.        ],\n",
              "        [0.00392157, 0.        , 0.        ]]])"
            ]
          },
          "metadata": {
            "tags": []
          },
          "execution_count": 10
        },
        {
          "output_type": "stream",
          "text": [
            "time: 10.1 ms\n"
          ],
          "name": "stdout"
        }
      ]
    },
    {
      "cell_type": "code",
      "metadata": {
        "id": "UC_pz4R-F2Cm",
        "colab_type": "code",
        "colab": {
          "base_uri": "https://localhost:8080/",
          "height": 34
        },
        "outputId": "a5d55ab6-a565-4a65-9c28-90c5323c9921"
      },
      "source": [
        "len(image_dataset['images'])"
      ],
      "execution_count": null,
      "outputs": [
        {
          "output_type": "execute_result",
          "data": {
            "text/plain": [
              "100"
            ]
          },
          "metadata": {
            "tags": []
          },
          "execution_count": 18
        }
      ]
    },
    {
      "cell_type": "code",
      "metadata": {
        "id": "KWNcNarVCTwa",
        "colab_type": "code",
        "colab": {}
      },
      "source": [
        "X_train, X_test, y_train, y_test = train_test_split(\n",
        "    image_dataset.data, image_dataset.target, test_size=0.3,random_state=109)"
      ],
      "execution_count": null,
      "outputs": []
    },
    {
      "cell_type": "code",
      "metadata": {
        "id": "JzOL-DxjCl4r",
        "colab_type": "code",
        "colab": {
          "base_uri": "https://localhost:8080/",
          "height": 238
        },
        "outputId": "59aa1374-6984-4297-f526-0c3f1d599cbb"
      },
      "source": [
        "param_grid = [\n",
        "  {'C': [1, 10, 100, 1000], 'kernel': ['linear']},\n",
        "  {'C': [1, 10, 100, 1000], 'gamma': [0.001, 0.0001], 'kernel': ['rbf']},\n",
        " ]\n",
        "svc = svm.SVC()\n",
        "clf = GridSearchCV(svc, param_grid)\n",
        "clf.fit(X_train, y_train)"
      ],
      "execution_count": null,
      "outputs": [
        {
          "output_type": "execute_result",
          "data": {
            "text/plain": [
              "GridSearchCV(cv=None, error_score=nan,\n",
              "             estimator=SVC(C=1.0, break_ties=False, cache_size=200,\n",
              "                           class_weight=None, coef0=0.0,\n",
              "                           decision_function_shape='ovr', degree=3,\n",
              "                           gamma='scale', kernel='rbf', max_iter=-1,\n",
              "                           probability=False, random_state=None, shrinking=True,\n",
              "                           tol=0.001, verbose=False),\n",
              "             iid='deprecated', n_jobs=None,\n",
              "             param_grid=[{'C': [1, 10, 100, 1000], 'kernel': ['linear']},\n",
              "                         {'C': [1, 10, 100, 1000], 'gamma': [0.001, 0.0001],\n",
              "                          'kernel': ['rbf']}],\n",
              "             pre_dispatch='2*n_jobs', refit=True, return_train_score=False,\n",
              "             scoring=None, verbose=0)"
            ]
          },
          "metadata": {
            "tags": []
          },
          "execution_count": 20
        }
      ]
    },
    {
      "cell_type": "code",
      "metadata": {
        "id": "TVbLlxN7CopI",
        "colab_type": "code",
        "colab": {
          "base_uri": "https://localhost:8080/",
          "height": 51
        },
        "outputId": "39b0735e-917f-4a00-f639-dfe663a6fc2d"
      },
      "source": [
        "y_pred = clf.predict(X_test)\n",
        "y_pred"
      ],
      "execution_count": null,
      "outputs": [
        {
          "output_type": "execute_result",
          "data": {
            "text/plain": [
              "array([1, 1, 1, 1, 1, 1, 1, 0, 0, 1, 0, 0, 0, 1, 1, 0, 0, 0, 1, 1, 1, 1,\n",
              "       1, 1, 0, 0, 0, 0, 0, 1])"
            ]
          },
          "metadata": {
            "tags": []
          },
          "execution_count": 21
        }
      ]
    },
    {
      "cell_type": "code",
      "metadata": {
        "id": "7BgVlwXqZfIs",
        "colab_type": "code",
        "colab": {
          "base_uri": "https://localhost:8080/",
          "height": 34
        },
        "outputId": "6e95f9b9-68de-4f77-c433-7312b283cb7d"
      },
      "source": [
        "image_dataset['target_names']"
      ],
      "execution_count": null,
      "outputs": [
        {
          "output_type": "execute_result",
          "data": {
            "text/plain": [
              "['apple', 'pizza']"
            ]
          },
          "metadata": {
            "tags": []
          },
          "execution_count": 22
        }
      ]
    },
    {
      "cell_type": "code",
      "metadata": {
        "id": "YI0qUM-NDCcx",
        "colab_type": "code",
        "colab": {
          "base_uri": "https://localhost:8080/",
          "height": 35
        },
        "outputId": "5ef39be0-207b-4a6d-c14f-983cf4b0afbd"
      },
      "source": [
        "image_dataset['target_names'][y_pred[0]]"
      ],
      "execution_count": null,
      "outputs": [
        {
          "output_type": "execute_result",
          "data": {
            "application/vnd.google.colaboratory.intrinsic+json": {
              "type": "string"
            },
            "text/plain": [
              "'pizza'"
            ]
          },
          "metadata": {
            "tags": []
          },
          "execution_count": 23
        }
      ]
    },
    {
      "cell_type": "code",
      "metadata": {
        "id": "yU_28DiPf6kC",
        "colab_type": "code",
        "colab": {}
      },
      "source": [
        "import pickle\n",
        "pickle.dump(clf, open( \"img_model.p\", \"wb\" ) )"
      ],
      "execution_count": null,
      "outputs": []
    },
    {
      "cell_type": "code",
      "metadata": {
        "id": "LJyCDwCmgisA",
        "colab_type": "code",
        "colab": {}
      },
      "source": [
        "model = pickle.load(open('img_model.p', 'rb'))"
      ],
      "execution_count": null,
      "outputs": []
    },
    {
      "cell_type": "code",
      "metadata": {
        "id": "bF-o9BYTcGnM",
        "colab_type": "code",
        "colab": {
          "base_uri": "https://localhost:8080/",
          "height": 319
        },
        "outputId": "74339a9a-95ed-4129-e6a4-0cf4c3b7face"
      },
      "source": [
        "flat_data = []\n",
        "url = input(\"Enter your URL\")\n",
        "img = imread(url)\n",
        "img_resized = resize(img, (64,64), anti_aliasing=True, mode='reflect') #Displaying\n",
        "flat_data.append(img_resized.flatten()) #Predicting\n",
        "flat_data = np.array(flat_data)\n",
        "print(img_resized.shape)\n",
        "plt.imshow(img_resized)\n",
        "y_out = model.predict(flat_data)\n",
        "y_out = image_dataset['target_names'][y_out[0]]\n",
        "print(f'Predicted Output:{y_out}')"
      ],
      "execution_count": null,
      "outputs": [
        {
          "output_type": "stream",
          "text": [
            "Enter your URLhttps://img.freepik.com/free-photo/delicious-fresh-pizza-served-wooden-table_127657-159.jpg?size=626&ext=jpg\n",
            "(64, 64, 3)\n",
            "Predicted Output:pizza\n"
          ],
          "name": "stdout"
        },
        {
          "output_type": "display_data",
          "data": {
            "image/png": "[encoded data removed]",
            "text/plain": [
              "<Figure size 432x288 with 1 Axes>"
            ]
          },
          "metadata": {
            "tags": [],
            "needs_background": "light"
          }
        }
      ]
    },
    {
      "cell_type": "code",
      "metadata": {
        "id": "9tUdHCnt4QZB",
        "colab_type": "code",
        "colab": {
          "base_uri": "https://localhost:8080/",
          "height": 319
        },
        "outputId": "015a74e9-2a51-4edf-941e-66335e488b27"
      },
      "source": [
        "\n",
        "flat_data = []\n",
        "url = input(\"Enter your URL\")\n",
        "img = imread(url)\n",
        "img_resized = resize(img, (64,64)) #Displaying\n",
        "flat_data.append(img_resized.flatten()) #Predicting\n",
        "flat_data = np.array(flat_data)\n",
        "print(img_resized.shape)\n",
        "plt.imshow(img_resized)\n",
        "y_out = model.predict(flat_data)\n",
        "y_out = image_dataset['target_names'][y_out[0]]\n",
        "print(f'Predicted Output:{y_out}')"
      ],
      "execution_count": null,
      "outputs": [
        {
          "output_type": "stream",
          "text": [
            "Enter your URLhttps://upload.wikimedia.org/wikipedia/commons/thumb/1/15/Red_Apple.jpg/847px-Red_Apple.jpg\n",
            "(64, 64, 3)\n",
            "Predicted Output:apple\n"
          ],
          "name": "stdout"
        },
        {
          "output_type": "display_data",
          "data": {
            "image/png": "[encoded data removed]",
            "text/plain": [
              "<Figure size 432x288 with 1 Axes>"
            ]
          },
          "metadata": {
            "tags": [],
            "needs_background": "light"
          }
        }
      ]
    },
    {
      "cell_type": "code",
      "metadata": {
        "id": "rgF-_Z_V3AsR",
        "colab_type": "code",
        "colab": {}
      },
      "source": [
        "https://upload.wikimedia.org/wikipedia/commons/thumb/1/15/Red_Apple.jpg/847px-Red_Apple.jpg"
      ],
      "execution_count": null,
      "outputs": []
    },
    {
      "cell_type": "markdown",
      "metadata": {
        "id": "MasRShXsHJfD",
        "colab_type": "text"
      },
      "source": [
        "# **2nd Method**"
      ]
    },
    {
      "cell_type": "code",
      "metadata": {
        "id": "zP8p6ljBkCjL",
        "colab_type": "code",
        "colab": {
          "base_uri": "https://localhost:8080/",
          "height": 84
        },
        "outputId": "02a38f60-86a8-4a2f-fdc3-46fb12db2889"
      },
      "source": [
        "import os # Importing OS Library\n",
        "target=[]  # List for targets\n",
        "flat_data = []\n",
        "images =[]\n",
        "path = '/content/drive/My Drive/Diazonic Files/ML/SVM/flickr_scraper-master/flickr_scraper-master/images/'\n",
        "for dirname, _, filenames in os.walk(path):\n",
        "    for filename in filenames:\n",
        "        #print(os.path.join(dirname, filename))\n",
        "        category=dirname.split('/')[-1]\n",
        "        target.append(category)\n",
        "        img = imread('{0}{1}/{2}'.format(path,category,filename))\n",
        "        \n",
        "        img_resized = resize(img,(64,64))  # Skimage normalizes the value into floating point from 0-1 \n",
        "        flat_data.append(img_resized.flatten()) \n",
        "        images.append(img_resized)\n",
        "        \n",
        "flat_data = np.array(flat_data)\n",
        "target = np.array(target)\n",
        "images = np.array(images)\n",
        "\n",
        "print(target.shape)\n",
        "print(flat_data.shape)\n",
        "print(images.shape)\n",
        "# time: 6min 14s"
      ],
      "execution_count": 12,
      "outputs": [
        {
          "output_type": "stream",
          "text": [
            "(100,)\n",
            "(100, 12288)\n",
            "(100, 64, 64, 3)\n",
            "time: 6min 14s\n"
          ],
          "name": "stdout"
        }
      ]
    },
    {
      "cell_type": "code",
      "metadata": {
        "id": "Zae5srhW2zvc",
        "colab_type": "code",
        "colab": {}
      },
      "source": [
        "import pandas as pd\n",
        "df = pd.DataFrame(flat_data)\n",
        "df['Target'] = target"
      ],
      "execution_count": 85,
      "outputs": []
    },
    {
      "cell_type": "code",
      "metadata": {
        "id": "jfU2HmbsEpdW",
        "colab_type": "code",
        "colab": {}
      },
      "source": [
        "df.to_csv('Apple_Pizza.csv',index = False)"
      ],
      "execution_count": 86,
      "outputs": []
    },
    {
      "cell_type": "code",
      "metadata": {
        "id": "-an0_6czGLHN",
        "colab_type": "code",
        "colab": {
          "base_uri": "https://localhost:8080/",
          "height": 34
        },
        "outputId": "43ca0660-d302-4e93-aec3-a14137cac4e9"
      },
      "source": [
        "df = pd.read_csv('Apple_Pizza.csv')\n",
        "df.shape"
      ],
      "execution_count": 87,
      "outputs": [
        {
          "output_type": "execute_result",
          "data": {
            "text/plain": [
              "(100, 12289)"
            ]
          },
          "metadata": {
            "tags": []
          },
          "execution_count": 87
        }
      ]
    },
    {
      "cell_type": "code",
      "metadata": {
        "id": "1a_v0TcWGnmS",
        "colab_type": "code",
        "colab": {
          "base_uri": "https://localhost:8080/",
          "height": 185
        },
        "outputId": "9e8a20e3-d1b7-411c-cd0e-be0974d2ed70"
      },
      "source": [
        "df.head(3)"
      ],
      "execution_count": 88,
      "outputs": [
        {
          "output_type": "execute_result",
          "data": {
            "text/html": [
              "<div>\n",
              "<style scoped>\n",
              "    .dataframe tbody tr th:only-of-type {\n",
              "        vertical-align: middle;\n",
              "    }\n",
              "\n",
              "    .dataframe tbody tr th {\n",
              "        vertical-align: top;\n",
              "    }\n",
              "\n",
              "    .dataframe thead th {\n",
              "        text-align: right;\n",
              "    }\n",
              "</style>\n",
              "<table border=\"1\" class=\"dataframe\">\n",
              "  <thead>\n",
              "    <tr style=\"text-align: right;\">\n",
              "      <th></th>\n",
              "      <th>0</th>\n",
              "      <th>1</th>\n",
              "      <th>2</th>\n",
              "      <th>3</th>\n",
              "      <th>4</th>\n",
              "      <th>5</th>\n",
              "      <th>6</th>\n",
              "      <th>7</th>\n",
              "      <th>8</th>\n",
              "      <th>9</th>\n",
              "      <th>10</th>\n",
              "      <th>11</th>\n",
              "      <th>12</th>\n",
              "      <th>13</th>\n",
              "      <th>14</th>\n",
              "      <th>15</th>\n",
              "      <th>16</th>\n",
              "      <th>17</th>\n",
              "      <th>18</th>\n",
              "      <th>19</th>\n",
              "      <th>20</th>\n",
              "      <th>21</th>\n",
              "      <th>22</th>\n",
              "      <th>23</th>\n",
              "      <th>24</th>\n",
              "      <th>25</th>\n",
              "      <th>26</th>\n",
              "      <th>27</th>\n",
              "      <th>28</th>\n",
              "      <th>29</th>\n",
              "      <th>30</th>\n",
              "      <th>31</th>\n",
              "      <th>32</th>\n",
              "      <th>33</th>\n",
              "      <th>34</th>\n",
              "      <th>35</th>\n",
              "      <th>36</th>\n",
              "      <th>37</th>\n",
              "      <th>38</th>\n",
              "      <th>39</th>\n",
              "      <th>...</th>\n",
              "      <th>12249</th>\n",
              "      <th>12250</th>\n",
              "      <th>12251</th>\n",
              "      <th>12252</th>\n",
              "      <th>12253</th>\n",
              "      <th>12254</th>\n",
              "      <th>12255</th>\n",
              "      <th>12256</th>\n",
              "      <th>12257</th>\n",
              "      <th>12258</th>\n",
              "      <th>12259</th>\n",
              "      <th>12260</th>\n",
              "      <th>12261</th>\n",
              "      <th>12262</th>\n",
              "      <th>12263</th>\n",
              "      <th>12264</th>\n",
              "      <th>12265</th>\n",
              "      <th>12266</th>\n",
              "      <th>12267</th>\n",
              "      <th>12268</th>\n",
              "      <th>12269</th>\n",
              "      <th>12270</th>\n",
              "      <th>12271</th>\n",
              "      <th>12272</th>\n",
              "      <th>12273</th>\n",
              "      <th>12274</th>\n",
              "      <th>12275</th>\n",
              "      <th>12276</th>\n",
              "      <th>12277</th>\n",
              "      <th>12278</th>\n",
              "      <th>12279</th>\n",
              "      <th>12280</th>\n",
              "      <th>12281</th>\n",
              "      <th>12282</th>\n",
              "      <th>12283</th>\n",
              "      <th>12284</th>\n",
              "      <th>12285</th>\n",
              "      <th>12286</th>\n",
              "      <th>12287</th>\n",
              "      <th>Target</th>\n",
              "    </tr>\n",
              "  </thead>\n",
              "  <tbody>\n",
              "    <tr>\n",
              "      <th>0</th>\n",
              "      <td>0.000000</td>\n",
              "      <td>0.000000</td>\n",
              "      <td>0.000000</td>\n",
              "      <td>0.000000</td>\n",
              "      <td>0.000000</td>\n",
              "      <td>0.000000</td>\n",
              "      <td>0.000000</td>\n",
              "      <td>0.000000</td>\n",
              "      <td>0.000000</td>\n",
              "      <td>0.000000</td>\n",
              "      <td>0.000000</td>\n",
              "      <td>0.000000</td>\n",
              "      <td>0.000000</td>\n",
              "      <td>0.000000</td>\n",
              "      <td>0.000000</td>\n",
              "      <td>0.000000</td>\n",
              "      <td>0.000000</td>\n",
              "      <td>0.000000</td>\n",
              "      <td>0.000000</td>\n",
              "      <td>0.000000</td>\n",
              "      <td>0.000000</td>\n",
              "      <td>0.000000</td>\n",
              "      <td>0.000000</td>\n",
              "      <td>0.000000</td>\n",
              "      <td>0.000000</td>\n",
              "      <td>0.000000</td>\n",
              "      <td>0.000000</td>\n",
              "      <td>0.000000</td>\n",
              "      <td>0.000000</td>\n",
              "      <td>0.000000</td>\n",
              "      <td>0.000000</td>\n",
              "      <td>0.000000</td>\n",
              "      <td>0.000000</td>\n",
              "      <td>0.000000</td>\n",
              "      <td>0.000000</td>\n",
              "      <td>0.000000</td>\n",
              "      <td>0.000000</td>\n",
              "      <td>0.000000</td>\n",
              "      <td>0.000000</td>\n",
              "      <td>0.000000</td>\n",
              "      <td>...</td>\n",
              "      <td>0.000000</td>\n",
              "      <td>0.000000</td>\n",
              "      <td>0.000000</td>\n",
              "      <td>0.000000</td>\n",
              "      <td>0.000000</td>\n",
              "      <td>0.000000</td>\n",
              "      <td>0.000000</td>\n",
              "      <td>0.000000</td>\n",
              "      <td>0.000000</td>\n",
              "      <td>0.000000</td>\n",
              "      <td>0.000000</td>\n",
              "      <td>0.000000</td>\n",
              "      <td>0.000000</td>\n",
              "      <td>0.000000</td>\n",
              "      <td>0.000000</td>\n",
              "      <td>0.000000</td>\n",
              "      <td>0.000000</td>\n",
              "      <td>0.000000</td>\n",
              "      <td>0.000000</td>\n",
              "      <td>0.000000</td>\n",
              "      <td>0.000000</td>\n",
              "      <td>0.000000</td>\n",
              "      <td>0.000000</td>\n",
              "      <td>0.000000</td>\n",
              "      <td>0.003922</td>\n",
              "      <td>0.000000</td>\n",
              "      <td>0.000000</td>\n",
              "      <td>0.003922</td>\n",
              "      <td>0.000000</td>\n",
              "      <td>0.000000</td>\n",
              "      <td>0.003922</td>\n",
              "      <td>0.000000</td>\n",
              "      <td>0.000000</td>\n",
              "      <td>0.003922</td>\n",
              "      <td>0.000000</td>\n",
              "      <td>0.000000</td>\n",
              "      <td>0.003922</td>\n",
              "      <td>0.000000</td>\n",
              "      <td>0.000000</td>\n",
              "      <td>apple</td>\n",
              "    </tr>\n",
              "    <tr>\n",
              "      <th>1</th>\n",
              "      <td>0.312745</td>\n",
              "      <td>0.160784</td>\n",
              "      <td>0.112745</td>\n",
              "      <td>0.612745</td>\n",
              "      <td>0.288235</td>\n",
              "      <td>0.121569</td>\n",
              "      <td>0.774510</td>\n",
              "      <td>0.417647</td>\n",
              "      <td>0.147059</td>\n",
              "      <td>0.850980</td>\n",
              "      <td>0.592157</td>\n",
              "      <td>0.247059</td>\n",
              "      <td>0.873529</td>\n",
              "      <td>0.661765</td>\n",
              "      <td>0.333333</td>\n",
              "      <td>0.806863</td>\n",
              "      <td>0.522549</td>\n",
              "      <td>0.186275</td>\n",
              "      <td>0.630392</td>\n",
              "      <td>0.366667</td>\n",
              "      <td>0.096078</td>\n",
              "      <td>0.372549</td>\n",
              "      <td>0.158824</td>\n",
              "      <td>0.019608</td>\n",
              "      <td>0.330392</td>\n",
              "      <td>0.137255</td>\n",
              "      <td>0.015686</td>\n",
              "      <td>0.344118</td>\n",
              "      <td>0.130392</td>\n",
              "      <td>0.023529</td>\n",
              "      <td>0.372549</td>\n",
              "      <td>0.112745</td>\n",
              "      <td>0.029412</td>\n",
              "      <td>0.378431</td>\n",
              "      <td>0.066667</td>\n",
              "      <td>0.037255</td>\n",
              "      <td>0.363725</td>\n",
              "      <td>0.039216</td>\n",
              "      <td>0.043137</td>\n",
              "      <td>0.293137</td>\n",
              "      <td>...</td>\n",
              "      <td>0.500980</td>\n",
              "      <td>0.305882</td>\n",
              "      <td>0.290196</td>\n",
              "      <td>0.427451</td>\n",
              "      <td>0.218627</td>\n",
              "      <td>0.216667</td>\n",
              "      <td>0.285294</td>\n",
              "      <td>0.052941</td>\n",
              "      <td>0.060784</td>\n",
              "      <td>0.201961</td>\n",
              "      <td>0.056863</td>\n",
              "      <td>0.046078</td>\n",
              "      <td>0.135294</td>\n",
              "      <td>0.075490</td>\n",
              "      <td>0.056863</td>\n",
              "      <td>0.233333</td>\n",
              "      <td>0.025490</td>\n",
              "      <td>0.021569</td>\n",
              "      <td>0.368627</td>\n",
              "      <td>0.031373</td>\n",
              "      <td>0.031373</td>\n",
              "      <td>0.448039</td>\n",
              "      <td>0.049020</td>\n",
              "      <td>0.041176</td>\n",
              "      <td>0.492157</td>\n",
              "      <td>0.076471</td>\n",
              "      <td>0.054902</td>\n",
              "      <td>0.523529</td>\n",
              "      <td>0.090196</td>\n",
              "      <td>0.066667</td>\n",
              "      <td>0.537255</td>\n",
              "      <td>0.094118</td>\n",
              "      <td>0.062745</td>\n",
              "      <td>0.557843</td>\n",
              "      <td>0.115686</td>\n",
              "      <td>0.075490</td>\n",
              "      <td>0.593137</td>\n",
              "      <td>0.153922</td>\n",
              "      <td>0.099020</td>\n",
              "      <td>apple</td>\n",
              "    </tr>\n",
              "    <tr>\n",
              "      <th>2</th>\n",
              "      <td>0.468627</td>\n",
              "      <td>0.089200</td>\n",
              "      <td>0.145741</td>\n",
              "      <td>0.480423</td>\n",
              "      <td>0.013695</td>\n",
              "      <td>0.137286</td>\n",
              "      <td>0.548116</td>\n",
              "      <td>0.000705</td>\n",
              "      <td>0.209605</td>\n",
              "      <td>0.605009</td>\n",
              "      <td>0.078064</td>\n",
              "      <td>0.371599</td>\n",
              "      <td>0.657889</td>\n",
              "      <td>0.233517</td>\n",
              "      <td>0.571798</td>\n",
              "      <td>0.674510</td>\n",
              "      <td>0.262362</td>\n",
              "      <td>0.601578</td>\n",
              "      <td>0.691636</td>\n",
              "      <td>0.256863</td>\n",
              "      <td>0.578431</td>\n",
              "      <td>0.702114</td>\n",
              "      <td>0.248116</td>\n",
              "      <td>0.562745</td>\n",
              "      <td>0.711765</td>\n",
              "      <td>0.287515</td>\n",
              "      <td>0.599694</td>\n",
              "      <td>0.703922</td>\n",
              "      <td>0.373361</td>\n",
              "      <td>0.671860</td>\n",
              "      <td>0.718735</td>\n",
              "      <td>0.406756</td>\n",
              "      <td>0.696952</td>\n",
              "      <td>0.715686</td>\n",
              "      <td>0.366667</td>\n",
              "      <td>0.634850</td>\n",
              "      <td>0.696477</td>\n",
              "      <td>0.380392</td>\n",
              "      <td>0.645098</td>\n",
              "      <td>0.622978</td>\n",
              "      <td>...</td>\n",
              "      <td>0.614124</td>\n",
              "      <td>0.147855</td>\n",
              "      <td>0.076471</td>\n",
              "      <td>0.617019</td>\n",
              "      <td>0.230484</td>\n",
              "      <td>0.089752</td>\n",
              "      <td>0.459023</td>\n",
              "      <td>0.182782</td>\n",
              "      <td>0.069930</td>\n",
              "      <td>0.231036</td>\n",
              "      <td>0.093199</td>\n",
              "      <td>0.025031</td>\n",
              "      <td>0.068321</td>\n",
              "      <td>0.022396</td>\n",
              "      <td>0.007843</td>\n",
              "      <td>0.080086</td>\n",
              "      <td>0.007843</td>\n",
              "      <td>0.003922</td>\n",
              "      <td>0.173591</td>\n",
              "      <td>0.031893</td>\n",
              "      <td>0.003922</td>\n",
              "      <td>0.272978</td>\n",
              "      <td>0.138879</td>\n",
              "      <td>0.000000</td>\n",
              "      <td>0.356679</td>\n",
              "      <td>0.293750</td>\n",
              "      <td>0.000000</td>\n",
              "      <td>0.456357</td>\n",
              "      <td>0.466743</td>\n",
              "      <td>0.000000</td>\n",
              "      <td>0.524786</td>\n",
              "      <td>0.580944</td>\n",
              "      <td>0.014982</td>\n",
              "      <td>0.543137</td>\n",
              "      <td>0.627420</td>\n",
              "      <td>0.056832</td>\n",
              "      <td>0.543137</td>\n",
              "      <td>0.645098</td>\n",
              "      <td>0.094439</td>\n",
              "      <td>apple</td>\n",
              "    </tr>\n",
              "  </tbody>\n",
              "</table>\n",
              "<p>3 rows × 12289 columns</p>\n",
              "</div>"
            ],
            "text/plain": [
              "          0         1         2         3  ...     12285     12286     12287  Target\n",
              "0  0.000000  0.000000  0.000000  0.000000  ...  0.003922  0.000000  0.000000   apple\n",
              "1  0.312745  0.160784  0.112745  0.612745  ...  0.593137  0.153922  0.099020   apple\n",
              "2  0.468627  0.089200  0.145741  0.480423  ...  0.543137  0.645098  0.094439   apple\n",
              "\n",
              "[3 rows x 12289 columns]"
            ]
          },
          "metadata": {
            "tags": []
          },
          "execution_count": 88
        }
      ]
    },
    {
      "cell_type": "code",
      "metadata": {
        "colab_type": "code",
        "id": "SHXJB5BPC-Ff",
        "colab": {}
      },
      "source": [
        "X_train, X_test, y_train, y_test = train_test_split(\n",
        "    flat_data, target, test_size=0.3,random_state=109)"
      ],
      "execution_count": 71,
      "outputs": []
    },
    {
      "cell_type": "code",
      "metadata": {
        "colab_type": "code",
        "id": "xExlV3_7C-Fw",
        "colab": {
          "base_uri": "https://localhost:8080/",
          "height": 235
        },
        "outputId": "55b3ef3d-ff43-416d-baa1-b95963ddbd5b"
      },
      "source": [
        "param_grid = [\n",
        "  {'C': [1, 10, 100, 1000], 'kernel': ['linear']},\n",
        "  {'C': [1, 10, 100, 1000], 'gamma': [0.001, 0.0001], 'kernel': ['rbf']},\n",
        " ]\n",
        "svc = svm.SVC()\n",
        "clf = GridSearchCV(svc, param_grid)\n",
        "clf.fit(X_train, y_train)"
      ],
      "execution_count": 72,
      "outputs": [
        {
          "output_type": "execute_result",
          "data": {
            "text/plain": [
              "GridSearchCV(cv=None, error_score=nan,\n",
              "             estimator=SVC(C=1.0, break_ties=False, cache_size=200,\n",
              "                           class_weight=None, coef0=0.0,\n",
              "                           decision_function_shape='ovr', degree=3,\n",
              "                           gamma='scale', kernel='rbf', max_iter=-1,\n",
              "                           probability=False, random_state=None, shrinking=True,\n",
              "                           tol=0.001, verbose=False),\n",
              "             iid='deprecated', n_jobs=None,\n",
              "             param_grid=[{'C': [1, 10, 100, 1000], 'kernel': ['linear']},\n",
              "                         {'C': [1, 10, 100, 1000], 'gamma': [0.001, 0.0001],\n",
              "                          'kernel': ['rbf']}],\n",
              "             pre_dispatch='2*n_jobs', refit=True, return_train_score=False,\n",
              "             scoring=None, verbose=0)"
            ]
          },
          "metadata": {
            "tags": []
          },
          "execution_count": 72
        }
      ]
    },
    {
      "cell_type": "code",
      "metadata": {
        "colab_type": "code",
        "id": "WizviGipC-F5",
        "colab": {
          "base_uri": "https://localhost:8080/",
          "height": 101
        },
        "outputId": "9bcaeef8-e489-4dbd-8ce0-bfc64d0eec8e"
      },
      "source": [
        "y_pred = clf.predict(X_test)\n",
        "y_pred"
      ],
      "execution_count": 73,
      "outputs": [
        {
          "output_type": "execute_result",
          "data": {
            "text/plain": [
              "array(['pizza', 'pizza', 'pizza', 'pizza', 'pizza', 'pizza', 'pizza',\n",
              "       'apple', 'apple', 'pizza', 'apple', 'apple', 'apple', 'pizza',\n",
              "       'pizza', 'apple', 'apple', 'apple', 'pizza', 'pizza', 'pizza',\n",
              "       'pizza', 'pizza', 'pizza', 'apple', 'apple', 'apple', 'apple',\n",
              "       'apple', 'pizza'], dtype='<U5')"
            ]
          },
          "metadata": {
            "tags": []
          },
          "execution_count": 73
        }
      ]
    },
    {
      "cell_type": "code",
      "metadata": {
        "colab_type": "code",
        "id": "uxMV7cO4C-GA",
        "colab": {
          "base_uri": "https://localhost:8080/",
          "height": 101
        },
        "outputId": "3cd9ee1a-e952-40a4-a016-dcd4aab58901"
      },
      "source": [
        "y_test"
      ],
      "execution_count": 74,
      "outputs": [
        {
          "output_type": "execute_result",
          "data": {
            "text/plain": [
              "array(['pizza', 'pizza', 'pizza', 'pizza', 'pizza', 'pizza', 'pizza',\n",
              "       'apple', 'apple', 'pizza', 'pizza', 'apple', 'apple', 'pizza',\n",
              "       'pizza', 'pizza', 'apple', 'apple', 'pizza', 'apple', 'apple',\n",
              "       'apple', 'pizza', 'pizza', 'apple', 'apple', 'pizza', 'apple',\n",
              "       'apple', 'pizza'], dtype='<U5')"
            ]
          },
          "metadata": {
            "tags": []
          },
          "execution_count": 74
        }
      ]
    },
    {
      "cell_type": "code",
      "metadata": {
        "id": "cGfScSgMDiY3",
        "colab_type": "code",
        "colab": {
          "base_uri": "https://localhost:8080/",
          "height": 50
        },
        "outputId": "0c2f5da3-0c13-4c25-c91c-8e8fcef52afa"
      },
      "source": [
        "from sklearn.metrics import accuracy_score,confusion_matrix\n",
        "confusion_matrix(y_pred,y_test)"
      ],
      "execution_count": 78,
      "outputs": [
        {
          "output_type": "execute_result",
          "data": {
            "text/plain": [
              "array([[10,  3],\n",
              "       [ 3, 14]])"
            ]
          },
          "metadata": {
            "tags": []
          },
          "execution_count": 78
        }
      ]
    },
    {
      "cell_type": "code",
      "metadata": {
        "id": "jXx0Nk8IDr83",
        "colab_type": "code",
        "colab": {
          "base_uri": "https://localhost:8080/",
          "height": 34
        },
        "outputId": "ffdbfa4e-d587-42f2-a536-3039341002a2"
      },
      "source": [
        "accuracy_score(y_pred,y_test)"
      ],
      "execution_count": 79,
      "outputs": [
        {
          "output_type": "execute_result",
          "data": {
            "text/plain": [
              "0.8"
            ]
          },
          "metadata": {
            "tags": []
          },
          "execution_count": 79
        }
      ]
    },
    {
      "cell_type": "code",
      "metadata": {
        "colab_type": "code",
        "id": "Zh7XJ0_FC-GI",
        "colab": {}
      },
      "source": [
        "import pickle\n",
        "pickle.dump(clf, open( \"model.p\", \"wb\" ) )"
      ],
      "execution_count": 76,
      "outputs": []
    },
    {
      "cell_type": "code",
      "metadata": {
        "colab_type": "code",
        "id": "lU8v3VtDC-GP",
        "colab": {}
      },
      "source": [
        "model = pickle.load(open('model.p', 'rb'))"
      ],
      "execution_count": 77,
      "outputs": []
    },
    {
      "cell_type": "code",
      "metadata": {
        "colab_type": "code",
        "id": "Ax-HV3b4C-GV",
        "colab": {
          "base_uri": "https://localhost:8080/",
          "height": 514
        },
        "outputId": "19ae85d7-8d60-4863-d9af-14cbc1404c1f"
      },
      "source": [
        "flato_data = []\n",
        "url = input(\"Enter your URL\")\n",
        "#https://img.freepik.com/free-photo/delicious-fresh-pizza-served-wooden-table_127657-159.jpg?size=626&ext=jpg\n",
        "img = imread(url)\n",
        "img_resized = resize(img, (64,64), anti_aliasing=True, mode='reflect') #Displaying\n",
        "flato_data.append(img_resized.flatten()) #Predicting\n",
        "flato_data = np.array(flato_data)\n",
        "print(img_resized.shape)\n",
        "plt.imshow(img_resized)\n",
        "y_out = model.predict(flato_data)\n",
        "print(f'Predicted Output:{y_out}')"
      ],
      "execution_count": 20,
      "outputs": [
        {
          "output_type": "stream",
          "text": [
            "Enter your URLhttps://img.freepik.com/free-photo/delicious-fresh-pizza-served-wooden-table_127657-159.jpg?size=626&ext=jpg\n",
            "(64, 64, 3)\n"
          ],
          "name": "stdout"
        },
        {
          "output_type": "error",
          "ename": "NameError",
          "evalue": "ignored",
          "traceback": [
            "\u001b[0;31m---------------------------------------------------------------------------\u001b[0m",
            "\u001b[0;31mNameError\u001b[0m                                 Traceback (most recent call last)",
            "\u001b[0;32m<ipython-input-20-0d6d96fce9c7>\u001b[0m in \u001b[0;36m<module>\u001b[0;34m()\u001b[0m\n\u001b[1;32m      8\u001b[0m \u001b[0mprint\u001b[0m\u001b[0;34m(\u001b[0m\u001b[0mimg_resized\u001b[0m\u001b[0;34m.\u001b[0m\u001b[0mshape\u001b[0m\u001b[0;34m)\u001b[0m\u001b[0;34m\u001b[0m\u001b[0;34m\u001b[0m\u001b[0m\n\u001b[1;32m      9\u001b[0m \u001b[0mplt\u001b[0m\u001b[0;34m.\u001b[0m\u001b[0mimshow\u001b[0m\u001b[0;34m(\u001b[0m\u001b[0mimg_resized\u001b[0m\u001b[0;34m)\u001b[0m\u001b[0;34m\u001b[0m\u001b[0;34m\u001b[0m\u001b[0m\n\u001b[0;32m---> 10\u001b[0;31m \u001b[0my_out\u001b[0m \u001b[0;34m=\u001b[0m \u001b[0mmodel\u001b[0m\u001b[0;34m.\u001b[0m\u001b[0mpredict\u001b[0m\u001b[0;34m(\u001b[0m\u001b[0mflato_data\u001b[0m\u001b[0;34m)\u001b[0m\u001b[0;34m\u001b[0m\u001b[0;34m\u001b[0m\u001b[0m\n\u001b[0m\u001b[1;32m     11\u001b[0m \u001b[0mprint\u001b[0m\u001b[0;34m(\u001b[0m\u001b[0;34mf'Predicted Output:{y_out}'\u001b[0m\u001b[0;34m)\u001b[0m\u001b[0;34m\u001b[0m\u001b[0;34m\u001b[0m\u001b[0m\n",
            "\u001b[0;31mNameError\u001b[0m: name 'model' is not defined"
          ]
        },
        {
          "output_type": "display_data",
          "data": {
            "image/png": "[encoded data removed]",
            "text/plain": [
              "<Figure size 432x288 with 1 Axes>"
            ]
          },
          "metadata": {
            "tags": [],
            "needs_background": "light"
          }
        },
        {
          "output_type": "stream",
          "text": [
            "time: 3.45 s\n"
          ],
          "name": "stdout"
        }
      ]
    },
    {
      "cell_type": "code",
      "metadata": {
        "id": "XwPXDf0ZNklK",
        "colab_type": "code",
        "colab": {
          "base_uri": "https://localhost:8080/",
          "height": 840
        },
        "outputId": "cd8e22d4-7826-4fb5-a63e-fb466bb9bb87"
      },
      "source": [
        "img_resized"
      ],
      "execution_count": 21,
      "outputs": [
        {
          "output_type": "execute_result",
          "data": {
            "text/plain": [
              "array([[[0.6745098 , 0.62898284, 0.6519335 ],\n",
              "        [0.70588235, 0.67058824, 0.69871324],\n",
              "        [0.7213848 , 0.68717974, 0.71372549],\n",
              "        ...,\n",
              "        [0.82840074, 0.82452369, 0.84020996],\n",
              "        [0.8323223 , 0.83478334, 0.85098039],\n",
              "        [0.8421875 , 0.8449482 , 0.86063448]],\n",
              "\n",
              "       [[0.67996324, 0.63640711, 0.6614277 ],\n",
              "        [0.70088848, 0.66323482, 0.69411765],\n",
              "        [0.7213848 , 0.68609069, 0.70980392],\n",
              "        ...,\n",
              "        [0.78716299, 0.78431373, 0.80284926],\n",
              "        [0.79825368, 0.79736567, 0.81697352],\n",
              "        [0.82530637, 0.82312107, 0.84272892]],\n",
              "\n",
              "       [[0.67792729, 0.63290441, 0.6627451 ],\n",
              "        [0.68641669, 0.64841787, 0.6799326 ],\n",
              "        [0.71843549, 0.68216912, 0.70667078],\n",
              "        ...,\n",
              "        [0.76945466, 0.76945466, 0.78514093],\n",
              "        [0.76945466, 0.76945466, 0.7890625 ],\n",
              "        [0.77337623, 0.76636029, 0.78596814]],\n",
              "\n",
              "       ...,\n",
              "\n",
              "       [[0.33664216, 0.16459722, 0.13405187],\n",
              "        [0.31689214, 0.14909189, 0.12178309],\n",
              "        [0.32843137, 0.16473652, 0.14199554],\n",
              "        ...,\n",
              "        [0.81498976, 0.81434637, 0.81920142],\n",
              "        [0.66475615, 0.68286276, 0.70247061],\n",
              "        [0.53380677, 0.54949305, 0.57643995]],\n",
              "\n",
              "       [[0.41593137, 0.25122549, 0.23161765],\n",
              "        [0.38952254, 0.24148236, 0.22490809],\n",
              "        [0.40551471, 0.27129289, 0.25934436],\n",
              "        ...,\n",
              "        [0.81531863, 0.80747549, 0.81139706],\n",
              "        [0.67132401, 0.66593089, 0.68112745],\n",
              "        [0.59286152, 0.60177696, 0.6213848 ]],\n",
              "\n",
              "       [[0.44408701, 0.29114583, 0.27583056],\n",
              "        [0.42935049, 0.29652794, 0.28425245],\n",
              "        [0.44408701, 0.32251838, 0.31449142],\n",
              "        ...,\n",
              "        [0.79480555, 0.78299632, 0.78691789],\n",
              "        [0.7231924 , 0.68762255, 0.69562893],\n",
              "        [0.66378676, 0.63958668, 0.65135139]]])"
            ]
          },
          "metadata": {
            "tags": []
          },
          "execution_count": 21
        },
        {
          "output_type": "stream",
          "text": [
            "time: 4.76 ms\n"
          ],
          "name": "stdout"
        }
      ]
    },
    {
      "cell_type": "code",
      "metadata": {
        "id": "6QVkzZr649Sr",
        "colab_type": "code",
        "colab": {
          "base_uri": "https://localhost:8080/",
          "height": 840
        },
        "outputId": "f6419534-2d1a-43cb-d372-bb3e727a165b"
      },
      "source": [
        "# Demo\n",
        "import cv2\n",
        "new_path = '/content/drive/My Drive/Diazonic Files/ML/SVM/flickr_scraper-master/flickr_scraper-master/images/apple/10414265306_3655e50c40_o.jpg'\n",
        "i = cv2.imread(new_path)\n",
        "i"
      ],
      "execution_count": 19,
      "outputs": [
        {
          "output_type": "execute_result",
          "data": {
            "text/plain": [
              "array([[[143, 177, 170],\n",
              "        [139, 173, 166],\n",
              "        [142, 175, 168],\n",
              "        ...,\n",
              "        [125, 160, 164],\n",
              "        [124, 159, 163],\n",
              "        [125, 160, 164]],\n",
              "\n",
              "       [[149, 183, 176],\n",
              "        [144, 178, 171],\n",
              "        [145, 178, 171],\n",
              "        ...,\n",
              "        [123, 158, 162],\n",
              "        [121, 156, 160],\n",
              "        [119, 154, 158]],\n",
              "\n",
              "       [[145, 178, 171],\n",
              "        [144, 177, 170],\n",
              "        [141, 174, 167],\n",
              "        ...,\n",
              "        [124, 159, 163],\n",
              "        [122, 157, 161],\n",
              "        [120, 155, 159]],\n",
              "\n",
              "       ...,\n",
              "\n",
              "       [[ 91, 163, 233],\n",
              "        [ 98, 170, 242],\n",
              "        [ 96, 167, 241],\n",
              "        ...,\n",
              "        [ 67,  57, 193],\n",
              "        [ 65,  54, 194],\n",
              "        [ 70,  61, 202]],\n",
              "\n",
              "       [[ 97, 169, 239],\n",
              "        [ 99, 171, 243],\n",
              "        [ 96, 167, 241],\n",
              "        ...,\n",
              "        [ 71,  61, 197],\n",
              "        [ 66,  55, 195],\n",
              "        [ 70,  60, 204]],\n",
              "\n",
              "       [[102, 174, 244],\n",
              "        [100, 172, 244],\n",
              "        [ 98, 169, 243],\n",
              "        ...,\n",
              "        [ 73,  63, 199],\n",
              "        [ 64,  53, 193],\n",
              "        [ 67,  57, 201]]], dtype=uint8)"
            ]
          },
          "metadata": {
            "tags": []
          },
          "execution_count": 19
        },
        {
          "output_type": "stream",
          "text": [
            "time: 85.3 ms\n"
          ],
          "name": "stdout"
        }
      ]
    },
    {
      "cell_type": "code",
      "metadata": {
        "id": "jghBzbS2ONqH",
        "colab_type": "code",
        "colab": {
          "base_uri": "https://localhost:8080/",
          "height": 34
        },
        "outputId": "e0aadc4e-d501-4dff-a28e-7702675401bd"
      },
      "source": [
        "img.shape"
      ],
      "execution_count": 25,
      "outputs": [
        {
          "output_type": "execute_result",
          "data": {
            "text/plain": [
              "(417, 626, 3)"
            ]
          },
          "metadata": {
            "tags": []
          },
          "execution_count": 25
        },
        {
          "output_type": "stream",
          "text": [
            "time: 3.66 ms\n"
          ],
          "name": "stdout"
        }
      ]
    },
    {
      "cell_type": "code",
      "metadata": {
        "id": "agt2QHTaOSBu",
        "colab_type": "code",
        "colab": {
          "base_uri": "https://localhost:8080/",
          "height": 302
        },
        "outputId": "18d49b2c-dbde-4ca3-a8fe-938f2ceb7999"
      },
      "source": [
        "img_resized1 = resize(img, (64,64))\n",
        "plt.imshow(img_resized1)"
      ],
      "execution_count": 30,
      "outputs": [
        {
          "output_type": "execute_result",
          "data": {
            "text/plain": [
              "<matplotlib.image.AxesImage at 0x7f28044f4b00>"
            ]
          },
          "metadata": {
            "tags": []
          },
          "execution_count": 30
        },
        {
          "output_type": "display_data",
          "data": {
            "image/png": "[encoded data removed]",
            "text/plain": [
              "<Figure size 432x288 with 1 Axes>"
            ]
          },
          "metadata": {
            "tags": [],
            "needs_background": "light"
          }
        },
        {
          "output_type": "stream",
          "text": [
            "time: 258 ms\n"
          ],
          "name": "stdout"
        }
      ]
    },
    {
      "cell_type": "code",
      "metadata": {
        "id": "ws_ZoPC2QDHA",
        "colab_type": "code",
        "colab": {
          "base_uri": "https://localhost:8080/",
          "height": 34
        },
        "outputId": "90a1e9fa-cf96-4ab6-a919-c7fb9059ba2a"
      },
      "source": [
        "img_resized1.min()"
      ],
      "execution_count": 33,
      "outputs": [
        {
          "output_type": "execute_result",
          "data": {
            "text/plain": [
              "0.0"
            ]
          },
          "metadata": {
            "tags": []
          },
          "execution_count": 33
        },
        {
          "output_type": "stream",
          "text": [
            "time: 4.96 ms\n"
          ],
          "name": "stdout"
        }
      ]
    },
    {
      "cell_type": "code",
      "metadata": {
        "id": "C83vN_ZWPabt",
        "colab_type": "code",
        "colab": {
          "base_uri": "https://localhost:8080/",
          "height": 302
        },
        "outputId": "68146a7d-25ef-4896-aea6-b45866712b14"
      },
      "source": [
        "img_resized = cv2.resize(img, (64,64))\n",
        "plt.imshow(img_resized)"
      ],
      "execution_count": 31,
      "outputs": [
        {
          "output_type": "execute_result",
          "data": {
            "text/plain": [
              "<matplotlib.image.AxesImage at 0x7f2804467908>"
            ]
          },
          "metadata": {
            "tags": []
          },
          "execution_count": 31
        },
        {
          "output_type": "display_data",
          "data": {
            "image/png": "[encoded data removed]",
            "text/plain": [
              "<Figure size 432x288 with 1 Axes>"
            ]
          },
          "metadata": {
            "tags": [],
            "needs_background": "light"
          }
        },
        {
          "output_type": "stream",
          "text": [
            "time: 177 ms\n"
          ],
          "name": "stdout"
        }
      ]
    },
    {
      "cell_type": "code",
      "metadata": {
        "id": "7XYWTeViNJ2n",
        "colab_type": "code",
        "colab": {}
      },
      "source": [
        "\n",
        "img = imread(url)\n",
        "img_resized = resize(img, (64,64), anti_aliasing=True, mode='reflect') #Displaying\n",
        "flato_data.append(img_resized.flatten()) #Predicting\n",
        "flato_data = np.array(flato_data)\n",
        "print(img_resized.shape)\n",
        "plt.imshow(img_resized)\n",
        "y_out = model.predict(flato_data)\n",
        "print(f'Predicted Output:{y_out}')"
      ],
      "execution_count": null,
      "outputs": []
    }
  ]
}