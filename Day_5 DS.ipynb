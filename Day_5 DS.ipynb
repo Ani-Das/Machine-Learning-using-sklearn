{
  "nbformat": 4,
  "nbformat_minor": 0,
  "metadata": {
    "colab": {
      "name": "Day 5.ipynb",
      "provenance": [],
      "mount_file_id": "160EUgru-j8QOTdYvJY1AzYOhZxSz3TTZ",
      "authorship_tag": "ABX9TyPq8UkQK0TkYdAwjZaEn2dx",
      "include_colab_link": true
    },
    "kernelspec": {
      "name": "python3",
      "display_name": "Python 3"
    }
  },
  "cells": [
    {
      "cell_type": "markdown",
      "metadata": {
        "id": "view-in-github",
        "colab_type": "text"
      },
      "source": [
        "<a href=\"https://colab.research.google.com/github/diazonic/Machine-Learning-using-sklearn/blob/master/Day_5%20DS.ipynb\" target=\"_parent\"><img src=\"https://colab.research.google.com/assets/colab-badge.svg\" alt=\"Open In Colab\"/></a>"
      ]
    },
    {
      "cell_type": "code",
      "metadata": {
        "id": "_P8q0Yed8d2g",
        "colab_type": "code",
        "colab": {}
      },
      "source": [
        "# ipynb - Interactive Python Notebook\n",
        "# py - python file"
      ],
      "execution_count": null,
      "outputs": []
    },
    {
      "cell_type": "code",
      "metadata": {
        "id": "W2agBpeG9BnI",
        "colab_type": "code",
        "colab": {}
      },
      "source": [
        "# Step 1: We have to read a csv file ( comma separated values ) and convert it into Dataframe( rows and columns )"
      ],
      "execution_count": null,
      "outputs": []
    },
    {
      "cell_type": "code",
      "metadata": {
        "id": "lBFQ-Si4-C3G",
        "colab_type": "code",
        "colab": {
          "base_uri": "https://localhost:8080/",
          "height": 407
        },
        "outputId": "5565cca0-0119-452f-ca01-a5bbbac29cf9"
      },
      "source": [
        "import pandas as pd\n",
        "df = pd.read_csv('/content/drive/My Drive/Diazonic Files/Python for Kids - DataScience/Archive 2/Archive/Plant_1_Generation_Data.csv')\n",
        "df"
      ],
      "execution_count": 2,
      "outputs": [
        {
          "output_type": "execute_result",
          "data": {
            "text/html": [
              "<div>\n",
              "<style scoped>\n",
              "    .dataframe tbody tr th:only-of-type {\n",
              "        vertical-align: middle;\n",
              "    }\n",
              "\n",
              "    .dataframe tbody tr th {\n",
              "        vertical-align: top;\n",
              "    }\n",
              "\n",
              "    .dataframe thead th {\n",
              "        text-align: right;\n",
              "    }\n",
              "</style>\n",
              "<table border=\"1\" class=\"dataframe\">\n",
              "  <thead>\n",
              "    <tr style=\"text-align: right;\">\n",
              "      <th></th>\n",
              "      <th>DATE_TIME</th>\n",
              "      <th>PLANT_ID</th>\n",
              "      <th>SOURCE_KEY</th>\n",
              "      <th>DC_POWER</th>\n",
              "      <th>AC_POWER</th>\n",
              "      <th>DAILY_YIELD</th>\n",
              "      <th>TOTAL_YIELD</th>\n",
              "    </tr>\n",
              "  </thead>\n",
              "  <tbody>\n",
              "    <tr>\n",
              "      <th>0</th>\n",
              "      <td>15-05-2020 00:00</td>\n",
              "      <td>4135001</td>\n",
              "      <td>1BY6WEcLGh8j5v7</td>\n",
              "      <td>0.0</td>\n",
              "      <td>0.0</td>\n",
              "      <td>0.000</td>\n",
              "      <td>6259559.0</td>\n",
              "    </tr>\n",
              "    <tr>\n",
              "      <th>1</th>\n",
              "      <td>15-05-2020 00:00</td>\n",
              "      <td>4135001</td>\n",
              "      <td>1IF53ai7Xc0U56Y</td>\n",
              "      <td>0.0</td>\n",
              "      <td>0.0</td>\n",
              "      <td>0.000</td>\n",
              "      <td>6183645.0</td>\n",
              "    </tr>\n",
              "    <tr>\n",
              "      <th>2</th>\n",
              "      <td>15-05-2020 00:00</td>\n",
              "      <td>4135001</td>\n",
              "      <td>3PZuoBAID5Wc2HD</td>\n",
              "      <td>0.0</td>\n",
              "      <td>0.0</td>\n",
              "      <td>0.000</td>\n",
              "      <td>6987759.0</td>\n",
              "    </tr>\n",
              "    <tr>\n",
              "      <th>3</th>\n",
              "      <td>15-05-2020 00:00</td>\n",
              "      <td>4135001</td>\n",
              "      <td>7JYdWkrLSPkdwr4</td>\n",
              "      <td>0.0</td>\n",
              "      <td>0.0</td>\n",
              "      <td>0.000</td>\n",
              "      <td>7602960.0</td>\n",
              "    </tr>\n",
              "    <tr>\n",
              "      <th>4</th>\n",
              "      <td>15-05-2020 00:00</td>\n",
              "      <td>4135001</td>\n",
              "      <td>McdE0feGgRqW7Ca</td>\n",
              "      <td>0.0</td>\n",
              "      <td>0.0</td>\n",
              "      <td>0.000</td>\n",
              "      <td>7158964.0</td>\n",
              "    </tr>\n",
              "    <tr>\n",
              "      <th>...</th>\n",
              "      <td>...</td>\n",
              "      <td>...</td>\n",
              "      <td>...</td>\n",
              "      <td>...</td>\n",
              "      <td>...</td>\n",
              "      <td>...</td>\n",
              "      <td>...</td>\n",
              "    </tr>\n",
              "    <tr>\n",
              "      <th>68773</th>\n",
              "      <td>17-06-2020 23:45</td>\n",
              "      <td>4135001</td>\n",
              "      <td>uHbuxQJl8lW7ozc</td>\n",
              "      <td>0.0</td>\n",
              "      <td>0.0</td>\n",
              "      <td>5967.000</td>\n",
              "      <td>7287002.0</td>\n",
              "    </tr>\n",
              "    <tr>\n",
              "      <th>68774</th>\n",
              "      <td>17-06-2020 23:45</td>\n",
              "      <td>4135001</td>\n",
              "      <td>wCURE6d3bPkepu2</td>\n",
              "      <td>0.0</td>\n",
              "      <td>0.0</td>\n",
              "      <td>5147.625</td>\n",
              "      <td>7028601.0</td>\n",
              "    </tr>\n",
              "    <tr>\n",
              "      <th>68775</th>\n",
              "      <td>17-06-2020 23:45</td>\n",
              "      <td>4135001</td>\n",
              "      <td>z9Y9gH1T5YWrNuG</td>\n",
              "      <td>0.0</td>\n",
              "      <td>0.0</td>\n",
              "      <td>5819.000</td>\n",
              "      <td>7251204.0</td>\n",
              "    </tr>\n",
              "    <tr>\n",
              "      <th>68776</th>\n",
              "      <td>17-06-2020 23:45</td>\n",
              "      <td>4135001</td>\n",
              "      <td>zBIq5rxdHJRwDNY</td>\n",
              "      <td>0.0</td>\n",
              "      <td>0.0</td>\n",
              "      <td>5817.000</td>\n",
              "      <td>6583369.0</td>\n",
              "    </tr>\n",
              "    <tr>\n",
              "      <th>68777</th>\n",
              "      <td>17-06-2020 23:45</td>\n",
              "      <td>4135001</td>\n",
              "      <td>zVJPv84UY57bAof</td>\n",
              "      <td>0.0</td>\n",
              "      <td>0.0</td>\n",
              "      <td>5910.000</td>\n",
              "      <td>7363272.0</td>\n",
              "    </tr>\n",
              "  </tbody>\n",
              "</table>\n",
              "<p>68778 rows × 7 columns</p>\n",
              "</div>"
            ],
            "text/plain": [
              "              DATE_TIME  PLANT_ID  ... DAILY_YIELD  TOTAL_YIELD\n",
              "0      15-05-2020 00:00   4135001  ...       0.000    6259559.0\n",
              "1      15-05-2020 00:00   4135001  ...       0.000    6183645.0\n",
              "2      15-05-2020 00:00   4135001  ...       0.000    6987759.0\n",
              "3      15-05-2020 00:00   4135001  ...       0.000    7602960.0\n",
              "4      15-05-2020 00:00   4135001  ...       0.000    7158964.0\n",
              "...                 ...       ...  ...         ...          ...\n",
              "68773  17-06-2020 23:45   4135001  ...    5967.000    7287002.0\n",
              "68774  17-06-2020 23:45   4135001  ...    5147.625    7028601.0\n",
              "68775  17-06-2020 23:45   4135001  ...    5819.000    7251204.0\n",
              "68776  17-06-2020 23:45   4135001  ...    5817.000    6583369.0\n",
              "68777  17-06-2020 23:45   4135001  ...    5910.000    7363272.0\n",
              "\n",
              "[68778 rows x 7 columns]"
            ]
          },
          "metadata": {
            "tags": []
          },
          "execution_count": 2
        }
      ]
    },
    {
      "cell_type": "code",
      "metadata": {
        "id": "lk0Ct2-I-MvT",
        "colab_type": "code",
        "colab": {
          "base_uri": "https://localhost:8080/",
          "height": 35
        },
        "outputId": "26ed8210-7ce2-4468-f032-c3ef5bf11f99"
      },
      "source": [
        "type(df)"
      ],
      "execution_count": 3,
      "outputs": [
        {
          "output_type": "execute_result",
          "data": {
            "text/plain": [
              "pandas.core.frame.DataFrame"
            ]
          },
          "metadata": {
            "tags": []
          },
          "execution_count": 3
        }
      ]
    },
    {
      "cell_type": "code",
      "metadata": {
        "id": "x-j6Uoev-sr7",
        "colab_type": "code",
        "colab": {
          "base_uri": "https://localhost:8080/",
          "height": 272
        },
        "outputId": "de4f7e6d-f86b-434d-92d0-4b6f47fd931a"
      },
      "source": [
        "df.info()"
      ],
      "execution_count": 4,
      "outputs": [
        {
          "output_type": "stream",
          "text": [
            "<class 'pandas.core.frame.DataFrame'>\n",
            "RangeIndex: 68778 entries, 0 to 68777\n",
            "Data columns (total 7 columns):\n",
            " #   Column       Non-Null Count  Dtype  \n",
            "---  ------       --------------  -----  \n",
            " 0   DATE_TIME    68778 non-null  object \n",
            " 1   PLANT_ID     68778 non-null  int64  \n",
            " 2   SOURCE_KEY   68778 non-null  object \n",
            " 3   DC_POWER     68778 non-null  float64\n",
            " 4   AC_POWER     68778 non-null  float64\n",
            " 5   DAILY_YIELD  68778 non-null  float64\n",
            " 6   TOTAL_YIELD  68778 non-null  float64\n",
            "dtypes: float64(4), int64(1), object(2)\n",
            "memory usage: 3.7+ MB\n"
          ],
          "name": "stdout"
        }
      ]
    },
    {
      "cell_type": "code",
      "metadata": {
        "id": "5idLHnnY_Cyh",
        "colab_type": "code",
        "colab": {
          "base_uri": "https://localhost:8080/",
          "height": 163
        },
        "outputId": "04fec378-4929-4a08-bcae-65f7b931fbd3"
      },
      "source": [
        "df.nunique() # Gives unique value in every column"
      ],
      "execution_count": 5,
      "outputs": [
        {
          "output_type": "execute_result",
          "data": {
            "text/plain": [
              "DATE_TIME       3158\n",
              "PLANT_ID           1\n",
              "SOURCE_KEY        22\n",
              "DC_POWER       32909\n",
              "AC_POWER       32686\n",
              "DAILY_YIELD    29900\n",
              "TOTAL_YIELD    37267\n",
              "dtype: int64"
            ]
          },
          "metadata": {
            "tags": []
          },
          "execution_count": 5
        }
      ]
    },
    {
      "cell_type": "code",
      "metadata": {
        "id": "_kehQyooBUgH",
        "colab_type": "code",
        "colab": {
          "base_uri": "https://localhost:8080/",
          "height": 35
        },
        "outputId": "fa760118-b748-4010-ecd7-a332e2b0f5d5"
      },
      "source": [
        "df['SOURCE_KEY'].nunique()"
      ],
      "execution_count": 6,
      "outputs": [
        {
          "output_type": "execute_result",
          "data": {
            "text/plain": [
              "22"
            ]
          },
          "metadata": {
            "tags": []
          },
          "execution_count": 6
        }
      ]
    },
    {
      "cell_type": "code",
      "metadata": {
        "id": "fUFv6FmYC5Ab",
        "colab_type": "code",
        "colab": {
          "base_uri": "https://localhost:8080/",
          "height": 163
        },
        "outputId": "0853fd88-2731-423f-c7f0-db78f8c8fd13"
      },
      "source": [
        "df['SOURCE_KEY'].unique()"
      ],
      "execution_count": 7,
      "outputs": [
        {
          "output_type": "execute_result",
          "data": {
            "text/plain": [
              "array(['1BY6WEcLGh8j5v7', '1IF53ai7Xc0U56Y', '3PZuoBAID5Wc2HD',\n",
              "       '7JYdWkrLSPkdwr4', 'McdE0feGgRqW7Ca', 'VHMLBKoKgIrUVDU',\n",
              "       'WRmjgnKYAwPKWDb', 'ZnxXDlPa8U1GXgE', 'ZoEaEvLYb1n2sOq',\n",
              "       'adLQvlD726eNBSB', 'bvBOhCH3iADSZry', 'iCRJl6heRkivqQ3',\n",
              "       'ih0vzX44oOqAx2f', 'pkci93gMrogZuBj', 'rGa61gmuvPhdLxV',\n",
              "       'sjndEbLyjtCKgGv', 'uHbuxQJl8lW7ozc', 'wCURE6d3bPkepu2',\n",
              "       'z9Y9gH1T5YWrNuG', 'zBIq5rxdHJRwDNY', 'zVJPv84UY57bAof',\n",
              "       'YxYtjZvoooNbGkE'], dtype=object)"
            ]
          },
          "metadata": {
            "tags": []
          },
          "execution_count": 7
        }
      ]
    },
    {
      "cell_type": "code",
      "metadata": {
        "id": "VG7SZrrxSl_g",
        "colab_type": "code",
        "colab": {
          "base_uri": "https://localhost:8080/",
          "height": 235
        },
        "outputId": "3c239eb9-0c67-4e9f-d11b-f4e90b42c02b"
      },
      "source": [
        "df[\"SOURCE_KEY\"]"
      ],
      "execution_count": 8,
      "outputs": [
        {
          "output_type": "execute_result",
          "data": {
            "text/plain": [
              "0        1BY6WEcLGh8j5v7\n",
              "1        1IF53ai7Xc0U56Y\n",
              "2        3PZuoBAID5Wc2HD\n",
              "3        7JYdWkrLSPkdwr4\n",
              "4        McdE0feGgRqW7Ca\n",
              "              ...       \n",
              "68773    uHbuxQJl8lW7ozc\n",
              "68774    wCURE6d3bPkepu2\n",
              "68775    z9Y9gH1T5YWrNuG\n",
              "68776    zBIq5rxdHJRwDNY\n",
              "68777    zVJPv84UY57bAof\n",
              "Name: SOURCE_KEY, Length: 68778, dtype: object"
            ]
          },
          "metadata": {
            "tags": []
          },
          "execution_count": 8
        }
      ]
    },
    {
      "cell_type": "code",
      "metadata": {
        "id": "grGwnE27Bl4d",
        "colab_type": "code",
        "colab": {
          "base_uri": "https://localhost:8080/",
          "height": 35
        },
        "outputId": "13b21d17-5f19-4df2-ca53-f4b1a40bd855"
      },
      "source": [
        "type(df)"
      ],
      "execution_count": 9,
      "outputs": [
        {
          "output_type": "execute_result",
          "data": {
            "text/plain": [
              "pandas.core.frame.DataFrame"
            ]
          },
          "metadata": {
            "tags": []
          },
          "execution_count": 9
        }
      ]
    },
    {
      "cell_type": "code",
      "metadata": {
        "id": "d7oC6GUoB5-I",
        "colab_type": "code",
        "colab": {}
      },
      "source": [
        "# Series - A single column\n",
        "# DataFrame = Multiple Series"
      ],
      "execution_count": 10,
      "outputs": []
    },
    {
      "cell_type": "code",
      "metadata": {
        "id": "RdPVVYGNCBuL",
        "colab_type": "code",
        "colab": {
          "base_uri": "https://localhost:8080/",
          "height": 35
        },
        "outputId": "9fe57b63-519c-4168-cf0a-f172df8fab70"
      },
      "source": [
        "type(df['AC_POWER'])"
      ],
      "execution_count": 11,
      "outputs": [
        {
          "output_type": "execute_result",
          "data": {
            "text/plain": [
              "pandas.core.series.Series"
            ]
          },
          "metadata": {
            "tags": []
          },
          "execution_count": 11
        }
      ]
    },
    {
      "cell_type": "code",
      "metadata": {
        "id": "ixzqo4OYCESt",
        "colab_type": "code",
        "colab": {
          "base_uri": "https://localhost:8080/",
          "height": 163
        },
        "outputId": "f4777c89-18c5-4a87-adb8-23338a6b2cb3"
      },
      "source": [
        "# Visualizing the count of SOurce Key\n",
        "\n",
        "import matplotlib.pyplot as plt\n",
        "import numpy as np\n",
        "unique,count = np.unique(df['SOURCE_KEY'],return_counts=True)\n",
        "print(count)\n",
        "print(unique)"
      ],
      "execution_count": 12,
      "outputs": [
        {
          "output_type": "stream",
          "text": [
            "[3154 3119 3118 3133 3124 3133 3118 3104 3130 3123 3119 3155 3125 3130\n",
            " 3125 3124 3124 3125 3126 3126 3119 3124]\n",
            "['1BY6WEcLGh8j5v7' '1IF53ai7Xc0U56Y' '3PZuoBAID5Wc2HD' '7JYdWkrLSPkdwr4'\n",
            " 'McdE0feGgRqW7Ca' 'VHMLBKoKgIrUVDU' 'WRmjgnKYAwPKWDb' 'YxYtjZvoooNbGkE'\n",
            " 'ZnxXDlPa8U1GXgE' 'ZoEaEvLYb1n2sOq' 'adLQvlD726eNBSB' 'bvBOhCH3iADSZry'\n",
            " 'iCRJl6heRkivqQ3' 'ih0vzX44oOqAx2f' 'pkci93gMrogZuBj' 'rGa61gmuvPhdLxV'\n",
            " 'sjndEbLyjtCKgGv' 'uHbuxQJl8lW7ozc' 'wCURE6d3bPkepu2' 'z9Y9gH1T5YWrNuG'\n",
            " 'zBIq5rxdHJRwDNY' 'zVJPv84UY57bAof']\n"
          ],
          "name": "stdout"
        }
      ]
    },
    {
      "cell_type": "code",
      "metadata": {
        "id": "7H2Txud4ElgF",
        "colab_type": "code",
        "colab": {}
      },
      "source": [
        "np.unique?"
      ],
      "execution_count": 13,
      "outputs": []
    },
    {
      "cell_type": "code",
      "metadata": {
        "id": "CvBvz5f0Ew7r",
        "colab_type": "code",
        "colab": {
          "base_uri": "https://localhost:8080/",
          "height": 283
        },
        "outputId": "9eed9ba7-4cc2-4c79-d0db-be6d307876b4"
      },
      "source": [
        "plt.plot(unique,count)"
      ],
      "execution_count": 14,
      "outputs": [
        {
          "output_type": "execute_result",
          "data": {
            "text/plain": [
              "[<matplotlib.lines.Line2D at 0x7f330a9ce5f8>]"
            ]
          },
          "metadata": {
            "tags": []
          },
          "execution_count": 14
        },
        {
          "output_type": "display_data",
          "data": {
            "image/png": "[encoded data removed]",
            "text/plain": [
              "<Figure size 432x288 with 1 Axes>"
            ]
          },
          "metadata": {
            "tags": [],
            "needs_background": "light"
          }
        }
      ]
    },
    {
      "cell_type": "code",
      "metadata": {
        "id": "AfRPtL63FxYb",
        "colab_type": "code",
        "colab": {
          "base_uri": "https://localhost:8080/",
          "height": 359
        },
        "outputId": "ddffa7bb-428a-497c-f367-46e8083ff21b"
      },
      "source": [
        "plt.bar(unique,count)\n",
        "plt.xticks(rotation=90)\n",
        "plt.show()"
      ],
      "execution_count": 15,
      "outputs": [
        {
          "output_type": "display_data",
          "data": {
            "image/png": "[encoded data removed]",
            "text/plain": [
              "<Figure size 432x288 with 1 Axes>"
            ]
          },
          "metadata": {
            "tags": [],
            "needs_background": "light"
          }
        }
      ]
    },
    {
      "cell_type": "code",
      "metadata": {
        "id": "HHVatgmEG2j0",
        "colab_type": "code",
        "colab": {
          "base_uri": "https://localhost:8080/",
          "height": 355
        },
        "outputId": "52151d1d-0063-4956-fd33-6ae7f20de1fb"
      },
      "source": [
        "import seaborn as sns\n",
        "sns.countplot(x = 'SOURCE_KEY',data = df)"
      ],
      "execution_count": 16,
      "outputs": [
        {
          "output_type": "stream",
          "text": [
            "/usr/local/lib/python3.6/dist-packages/statsmodels/tools/_testing.py:19: FutureWarning: pandas.util.testing is deprecated. Use the functions in the public API at pandas.testing instead.\n",
            "  import pandas.util.testing as tm\n"
          ],
          "name": "stderr"
        },
        {
          "output_type": "execute_result",
          "data": {
            "text/plain": [
              "<matplotlib.axes._subplots.AxesSubplot at 0x7f3300029d68>"
            ]
          },
          "metadata": {
            "tags": []
          },
          "execution_count": 16
        },
        {
          "output_type": "display_data",
          "data": {
            "image/png": "[encoded data removed]",
            "text/plain": [
              "<Figure size 432x288 with 1 Axes>"
            ]
          },
          "metadata": {
            "tags": [],
            "needs_background": "light"
          }
        }
      ]
    },
    {
      "cell_type": "code",
      "metadata": {
        "id": "1XPsPx8wHRjC",
        "colab_type": "code",
        "colab": {
          "base_uri": "https://localhost:8080/",
          "height": 272
        },
        "outputId": "9ba4178c-3a50-4920-9d7c-3f7738d615f1"
      },
      "source": [
        "df.info()"
      ],
      "execution_count": 17,
      "outputs": [
        {
          "output_type": "stream",
          "text": [
            "<class 'pandas.core.frame.DataFrame'>\n",
            "RangeIndex: 68778 entries, 0 to 68777\n",
            "Data columns (total 7 columns):\n",
            " #   Column       Non-Null Count  Dtype  \n",
            "---  ------       --------------  -----  \n",
            " 0   DATE_TIME    68778 non-null  object \n",
            " 1   PLANT_ID     68778 non-null  int64  \n",
            " 2   SOURCE_KEY   68778 non-null  object \n",
            " 3   DC_POWER     68778 non-null  float64\n",
            " 4   AC_POWER     68778 non-null  float64\n",
            " 5   DAILY_YIELD  68778 non-null  float64\n",
            " 6   TOTAL_YIELD  68778 non-null  float64\n",
            "dtypes: float64(4), int64(1), object(2)\n",
            "memory usage: 3.7+ MB\n"
          ],
          "name": "stdout"
        }
      ]
    },
    {
      "cell_type": "code",
      "metadata": {
        "id": "2pbdTPfSDrHV",
        "colab_type": "code",
        "colab": {
          "base_uri": "https://localhost:8080/",
          "height": 407
        },
        "outputId": "b1c3cffe-9a64-4228-f404-a04786b68a13"
      },
      "source": [
        "# Convert String Date into datetime datatype\n",
        "# 15-05-2020 00:00\n",
        "# Link : https://docs.python.org/3.2/library/time.html\n",
        "df['DATE_TIME'] = pd.to_datetime(df['DATE_TIME'],format ='%d-%m-%Y %H:%M')\n",
        "df"
      ],
      "execution_count": 18,
      "outputs": [
        {
          "output_type": "execute_result",
          "data": {
            "text/html": [
              "<div>\n",
              "<style scoped>\n",
              "    .dataframe tbody tr th:only-of-type {\n",
              "        vertical-align: middle;\n",
              "    }\n",
              "\n",
              "    .dataframe tbody tr th {\n",
              "        vertical-align: top;\n",
              "    }\n",
              "\n",
              "    .dataframe thead th {\n",
              "        text-align: right;\n",
              "    }\n",
              "</style>\n",
              "<table border=\"1\" class=\"dataframe\">\n",
              "  <thead>\n",
              "    <tr style=\"text-align: right;\">\n",
              "      <th></th>\n",
              "      <th>DATE_TIME</th>\n",
              "      <th>PLANT_ID</th>\n",
              "      <th>SOURCE_KEY</th>\n",
              "      <th>DC_POWER</th>\n",
              "      <th>AC_POWER</th>\n",
              "      <th>DAILY_YIELD</th>\n",
              "      <th>TOTAL_YIELD</th>\n",
              "    </tr>\n",
              "  </thead>\n",
              "  <tbody>\n",
              "    <tr>\n",
              "      <th>0</th>\n",
              "      <td>2020-05-15 00:00:00</td>\n",
              "      <td>4135001</td>\n",
              "      <td>1BY6WEcLGh8j5v7</td>\n",
              "      <td>0.0</td>\n",
              "      <td>0.0</td>\n",
              "      <td>0.000</td>\n",
              "      <td>6259559.0</td>\n",
              "    </tr>\n",
              "    <tr>\n",
              "      <th>1</th>\n",
              "      <td>2020-05-15 00:00:00</td>\n",
              "      <td>4135001</td>\n",
              "      <td>1IF53ai7Xc0U56Y</td>\n",
              "      <td>0.0</td>\n",
              "      <td>0.0</td>\n",
              "      <td>0.000</td>\n",
              "      <td>6183645.0</td>\n",
              "    </tr>\n",
              "    <tr>\n",
              "      <th>2</th>\n",
              "      <td>2020-05-15 00:00:00</td>\n",
              "      <td>4135001</td>\n",
              "      <td>3PZuoBAID5Wc2HD</td>\n",
              "      <td>0.0</td>\n",
              "      <td>0.0</td>\n",
              "      <td>0.000</td>\n",
              "      <td>6987759.0</td>\n",
              "    </tr>\n",
              "    <tr>\n",
              "      <th>3</th>\n",
              "      <td>2020-05-15 00:00:00</td>\n",
              "      <td>4135001</td>\n",
              "      <td>7JYdWkrLSPkdwr4</td>\n",
              "      <td>0.0</td>\n",
              "      <td>0.0</td>\n",
              "      <td>0.000</td>\n",
              "      <td>7602960.0</td>\n",
              "    </tr>\n",
              "    <tr>\n",
              "      <th>4</th>\n",
              "      <td>2020-05-15 00:00:00</td>\n",
              "      <td>4135001</td>\n",
              "      <td>McdE0feGgRqW7Ca</td>\n",
              "      <td>0.0</td>\n",
              "      <td>0.0</td>\n",
              "      <td>0.000</td>\n",
              "      <td>7158964.0</td>\n",
              "    </tr>\n",
              "    <tr>\n",
              "      <th>...</th>\n",
              "      <td>...</td>\n",
              "      <td>...</td>\n",
              "      <td>...</td>\n",
              "      <td>...</td>\n",
              "      <td>...</td>\n",
              "      <td>...</td>\n",
              "      <td>...</td>\n",
              "    </tr>\n",
              "    <tr>\n",
              "      <th>68773</th>\n",
              "      <td>2020-06-17 23:45:00</td>\n",
              "      <td>4135001</td>\n",
              "      <td>uHbuxQJl8lW7ozc</td>\n",
              "      <td>0.0</td>\n",
              "      <td>0.0</td>\n",
              "      <td>5967.000</td>\n",
              "      <td>7287002.0</td>\n",
              "    </tr>\n",
              "    <tr>\n",
              "      <th>68774</th>\n",
              "      <td>2020-06-17 23:45:00</td>\n",
              "      <td>4135001</td>\n",
              "      <td>wCURE6d3bPkepu2</td>\n",
              "      <td>0.0</td>\n",
              "      <td>0.0</td>\n",
              "      <td>5147.625</td>\n",
              "      <td>7028601.0</td>\n",
              "    </tr>\n",
              "    <tr>\n",
              "      <th>68775</th>\n",
              "      <td>2020-06-17 23:45:00</td>\n",
              "      <td>4135001</td>\n",
              "      <td>z9Y9gH1T5YWrNuG</td>\n",
              "      <td>0.0</td>\n",
              "      <td>0.0</td>\n",
              "      <td>5819.000</td>\n",
              "      <td>7251204.0</td>\n",
              "    </tr>\n",
              "    <tr>\n",
              "      <th>68776</th>\n",
              "      <td>2020-06-17 23:45:00</td>\n",
              "      <td>4135001</td>\n",
              "      <td>zBIq5rxdHJRwDNY</td>\n",
              "      <td>0.0</td>\n",
              "      <td>0.0</td>\n",
              "      <td>5817.000</td>\n",
              "      <td>6583369.0</td>\n",
              "    </tr>\n",
              "    <tr>\n",
              "      <th>68777</th>\n",
              "      <td>2020-06-17 23:45:00</td>\n",
              "      <td>4135001</td>\n",
              "      <td>zVJPv84UY57bAof</td>\n",
              "      <td>0.0</td>\n",
              "      <td>0.0</td>\n",
              "      <td>5910.000</td>\n",
              "      <td>7363272.0</td>\n",
              "    </tr>\n",
              "  </tbody>\n",
              "</table>\n",
              "<p>68778 rows × 7 columns</p>\n",
              "</div>"
            ],
            "text/plain": [
              "                DATE_TIME  PLANT_ID  ... DAILY_YIELD  TOTAL_YIELD\n",
              "0     2020-05-15 00:00:00   4135001  ...       0.000    6259559.0\n",
              "1     2020-05-15 00:00:00   4135001  ...       0.000    6183645.0\n",
              "2     2020-05-15 00:00:00   4135001  ...       0.000    6987759.0\n",
              "3     2020-05-15 00:00:00   4135001  ...       0.000    7602960.0\n",
              "4     2020-05-15 00:00:00   4135001  ...       0.000    7158964.0\n",
              "...                   ...       ...  ...         ...          ...\n",
              "68773 2020-06-17 23:45:00   4135001  ...    5967.000    7287002.0\n",
              "68774 2020-06-17 23:45:00   4135001  ...    5147.625    7028601.0\n",
              "68775 2020-06-17 23:45:00   4135001  ...    5819.000    7251204.0\n",
              "68776 2020-06-17 23:45:00   4135001  ...    5817.000    6583369.0\n",
              "68777 2020-06-17 23:45:00   4135001  ...    5910.000    7363272.0\n",
              "\n",
              "[68778 rows x 7 columns]"
            ]
          },
          "metadata": {
            "tags": []
          },
          "execution_count": 18
        }
      ]
    },
    {
      "cell_type": "code",
      "metadata": {
        "id": "6nTQnJ4LEhbr",
        "colab_type": "code",
        "colab": {
          "base_uri": "https://localhost:8080/",
          "height": 272
        },
        "outputId": "d96fd742-b8a8-473f-e051-6e877d1ccc42"
      },
      "source": [
        "df.info()"
      ],
      "execution_count": 19,
      "outputs": [
        {
          "output_type": "stream",
          "text": [
            "<class 'pandas.core.frame.DataFrame'>\n",
            "RangeIndex: 68778 entries, 0 to 68777\n",
            "Data columns (total 7 columns):\n",
            " #   Column       Non-Null Count  Dtype         \n",
            "---  ------       --------------  -----         \n",
            " 0   DATE_TIME    68778 non-null  datetime64[ns]\n",
            " 1   PLANT_ID     68778 non-null  int64         \n",
            " 2   SOURCE_KEY   68778 non-null  object        \n",
            " 3   DC_POWER     68778 non-null  float64       \n",
            " 4   AC_POWER     68778 non-null  float64       \n",
            " 5   DAILY_YIELD  68778 non-null  float64       \n",
            " 6   TOTAL_YIELD  68778 non-null  float64       \n",
            "dtypes: datetime64[ns](1), float64(4), int64(1), object(1)\n",
            "memory usage: 3.7+ MB\n"
          ],
          "name": "stdout"
        }
      ]
    },
    {
      "cell_type": "code",
      "metadata": {
        "id": "r8Bh4tbpF7mr",
        "colab_type": "code",
        "colab": {}
      },
      "source": [
        "# Lets split into 2 different columns\n",
        "#df['DATE'] = df['DATE_TIME'].apply(lambda x:x.date()) \n",
        "# Assignment : What is Lambda and create a simple example using it."
      ],
      "execution_count": 20,
      "outputs": []
    },
    {
      "cell_type": "code",
      "metadata": {
        "id": "sIrlFPzvG4XL",
        "colab_type": "code",
        "colab": {}
      },
      "source": [
        "#df['TIME'] = df['DATE_TIME'].apply(lambda x:x.time()) "
      ],
      "execution_count": 21,
      "outputs": []
    },
    {
      "cell_type": "code",
      "metadata": {
        "id": "FTn6HQ0vG7uK",
        "colab_type": "code",
        "colab": {
          "base_uri": "https://localhost:8080/",
          "height": 348
        },
        "outputId": "a66c39b7-023c-4201-b3c1-0106847ac5ee"
      },
      "source": [
        "df[20:30]# Included 20, Excluded : 30(upto)"
      ],
      "execution_count": 22,
      "outputs": [
        {
          "output_type": "execute_result",
          "data": {
            "text/html": [
              "<div>\n",
              "<style scoped>\n",
              "    .dataframe tbody tr th:only-of-type {\n",
              "        vertical-align: middle;\n",
              "    }\n",
              "\n",
              "    .dataframe tbody tr th {\n",
              "        vertical-align: top;\n",
              "    }\n",
              "\n",
              "    .dataframe thead th {\n",
              "        text-align: right;\n",
              "    }\n",
              "</style>\n",
              "<table border=\"1\" class=\"dataframe\">\n",
              "  <thead>\n",
              "    <tr style=\"text-align: right;\">\n",
              "      <th></th>\n",
              "      <th>DATE_TIME</th>\n",
              "      <th>PLANT_ID</th>\n",
              "      <th>SOURCE_KEY</th>\n",
              "      <th>DC_POWER</th>\n",
              "      <th>AC_POWER</th>\n",
              "      <th>DAILY_YIELD</th>\n",
              "      <th>TOTAL_YIELD</th>\n",
              "    </tr>\n",
              "  </thead>\n",
              "  <tbody>\n",
              "    <tr>\n",
              "      <th>20</th>\n",
              "      <td>2020-05-15 00:00:00</td>\n",
              "      <td>4135001</td>\n",
              "      <td>zVJPv84UY57bAof</td>\n",
              "      <td>0.0</td>\n",
              "      <td>0.0</td>\n",
              "      <td>0.0</td>\n",
              "      <td>7116151.0</td>\n",
              "    </tr>\n",
              "    <tr>\n",
              "      <th>21</th>\n",
              "      <td>2020-05-15 00:15:00</td>\n",
              "      <td>4135001</td>\n",
              "      <td>1BY6WEcLGh8j5v7</td>\n",
              "      <td>0.0</td>\n",
              "      <td>0.0</td>\n",
              "      <td>0.0</td>\n",
              "      <td>6259559.0</td>\n",
              "    </tr>\n",
              "    <tr>\n",
              "      <th>22</th>\n",
              "      <td>2020-05-15 00:15:00</td>\n",
              "      <td>4135001</td>\n",
              "      <td>1IF53ai7Xc0U56Y</td>\n",
              "      <td>0.0</td>\n",
              "      <td>0.0</td>\n",
              "      <td>0.0</td>\n",
              "      <td>6183645.0</td>\n",
              "    </tr>\n",
              "    <tr>\n",
              "      <th>23</th>\n",
              "      <td>2020-05-15 00:15:00</td>\n",
              "      <td>4135001</td>\n",
              "      <td>3PZuoBAID5Wc2HD</td>\n",
              "      <td>0.0</td>\n",
              "      <td>0.0</td>\n",
              "      <td>0.0</td>\n",
              "      <td>6987759.0</td>\n",
              "    </tr>\n",
              "    <tr>\n",
              "      <th>24</th>\n",
              "      <td>2020-05-15 00:15:00</td>\n",
              "      <td>4135001</td>\n",
              "      <td>7JYdWkrLSPkdwr4</td>\n",
              "      <td>0.0</td>\n",
              "      <td>0.0</td>\n",
              "      <td>0.0</td>\n",
              "      <td>7602960.0</td>\n",
              "    </tr>\n",
              "    <tr>\n",
              "      <th>25</th>\n",
              "      <td>2020-05-15 00:15:00</td>\n",
              "      <td>4135001</td>\n",
              "      <td>McdE0feGgRqW7Ca</td>\n",
              "      <td>0.0</td>\n",
              "      <td>0.0</td>\n",
              "      <td>0.0</td>\n",
              "      <td>7158964.0</td>\n",
              "    </tr>\n",
              "    <tr>\n",
              "      <th>26</th>\n",
              "      <td>2020-05-15 00:15:00</td>\n",
              "      <td>4135001</td>\n",
              "      <td>VHMLBKoKgIrUVDU</td>\n",
              "      <td>0.0</td>\n",
              "      <td>0.0</td>\n",
              "      <td>0.0</td>\n",
              "      <td>7206408.0</td>\n",
              "    </tr>\n",
              "    <tr>\n",
              "      <th>27</th>\n",
              "      <td>2020-05-15 00:15:00</td>\n",
              "      <td>4135001</td>\n",
              "      <td>WRmjgnKYAwPKWDb</td>\n",
              "      <td>0.0</td>\n",
              "      <td>0.0</td>\n",
              "      <td>0.0</td>\n",
              "      <td>7028673.0</td>\n",
              "    </tr>\n",
              "    <tr>\n",
              "      <th>28</th>\n",
              "      <td>2020-05-15 00:15:00</td>\n",
              "      <td>4135001</td>\n",
              "      <td>ZnxXDlPa8U1GXgE</td>\n",
              "      <td>0.0</td>\n",
              "      <td>0.0</td>\n",
              "      <td>0.0</td>\n",
              "      <td>6522172.0</td>\n",
              "    </tr>\n",
              "    <tr>\n",
              "      <th>29</th>\n",
              "      <td>2020-05-15 00:15:00</td>\n",
              "      <td>4135001</td>\n",
              "      <td>ZoEaEvLYb1n2sOq</td>\n",
              "      <td>0.0</td>\n",
              "      <td>0.0</td>\n",
              "      <td>0.0</td>\n",
              "      <td>7098099.0</td>\n",
              "    </tr>\n",
              "  </tbody>\n",
              "</table>\n",
              "</div>"
            ],
            "text/plain": [
              "             DATE_TIME  PLANT_ID  ... DAILY_YIELD  TOTAL_YIELD\n",
              "20 2020-05-15 00:00:00   4135001  ...         0.0    7116151.0\n",
              "21 2020-05-15 00:15:00   4135001  ...         0.0    6259559.0\n",
              "22 2020-05-15 00:15:00   4135001  ...         0.0    6183645.0\n",
              "23 2020-05-15 00:15:00   4135001  ...         0.0    6987759.0\n",
              "24 2020-05-15 00:15:00   4135001  ...         0.0    7602960.0\n",
              "25 2020-05-15 00:15:00   4135001  ...         0.0    7158964.0\n",
              "26 2020-05-15 00:15:00   4135001  ...         0.0    7206408.0\n",
              "27 2020-05-15 00:15:00   4135001  ...         0.0    7028673.0\n",
              "28 2020-05-15 00:15:00   4135001  ...         0.0    6522172.0\n",
              "29 2020-05-15 00:15:00   4135001  ...         0.0    7098099.0\n",
              "\n",
              "[10 rows x 7 columns]"
            ]
          },
          "metadata": {
            "tags": []
          },
          "execution_count": 22
        }
      ]
    },
    {
      "cell_type": "code",
      "metadata": {
        "id": "Dv9xxFWzHtGO",
        "colab_type": "code",
        "colab": {}
      },
      "source": [
        "#df['DATE']"
      ],
      "execution_count": 23,
      "outputs": []
    },
    {
      "cell_type": "code",
      "metadata": {
        "id": "sMLClqnuIva6",
        "colab_type": "code",
        "colab": {
          "base_uri": "https://localhost:8080/",
          "height": 272
        },
        "outputId": "86f34e0c-2590-41de-c1c5-c8f6525c7d5a"
      },
      "source": [
        "df.info()"
      ],
      "execution_count": 24,
      "outputs": [
        {
          "output_type": "stream",
          "text": [
            "<class 'pandas.core.frame.DataFrame'>\n",
            "RangeIndex: 68778 entries, 0 to 68777\n",
            "Data columns (total 7 columns):\n",
            " #   Column       Non-Null Count  Dtype         \n",
            "---  ------       --------------  -----         \n",
            " 0   DATE_TIME    68778 non-null  datetime64[ns]\n",
            " 1   PLANT_ID     68778 non-null  int64         \n",
            " 2   SOURCE_KEY   68778 non-null  object        \n",
            " 3   DC_POWER     68778 non-null  float64       \n",
            " 4   AC_POWER     68778 non-null  float64       \n",
            " 5   DAILY_YIELD  68778 non-null  float64       \n",
            " 6   TOTAL_YIELD  68778 non-null  float64       \n",
            "dtypes: datetime64[ns](1), float64(4), int64(1), object(1)\n",
            "memory usage: 3.7+ MB\n"
          ],
          "name": "stdout"
        }
      ]
    },
    {
      "cell_type": "code",
      "metadata": {
        "id": "YFQLjoSHKYaU",
        "colab_type": "code",
        "colab": {}
      },
      "source": [
        "#df['DATE'] = pd.to_datetime(df['DATE']) # No need of Format here coz its already in standard format. ALthought its good to give"
      ],
      "execution_count": 25,
      "outputs": []
    },
    {
      "cell_type": "code",
      "metadata": {
        "id": "nqtuzy89Mv45",
        "colab_type": "code",
        "colab": {}
      },
      "source": [
        "#df['TIME'] = pd.to_datetime(df['TIME'],format ='%H:%M:%S' )"
      ],
      "execution_count": 26,
      "outputs": []
    },
    {
      "cell_type": "code",
      "metadata": {
        "id": "kF87xzN9M5f4",
        "colab_type": "code",
        "colab": {}
      },
      "source": [
        "#df.info()"
      ],
      "execution_count": 27,
      "outputs": []
    },
    {
      "cell_type": "code",
      "metadata": {
        "id": "hn3o3ezVLq6_",
        "colab_type": "code",
        "colab": {}
      },
      "source": [
        "# Split Time into Hours, Minutes and Seconds\n",
        "#df['HOUR'] = pd.to_datetime(df['TIME'],format = '%H:%M:%S').dt.hour"
      ],
      "execution_count": 28,
      "outputs": []
    },
    {
      "cell_type": "code",
      "metadata": {
        "id": "3xLjhbG7Mllo",
        "colab_type": "code",
        "colab": {}
      },
      "source": [
        "#df['MINUTE'] = pd.to_datetime(df['TIME'],format = '%H:%M:%S').dt.minute"
      ],
      "execution_count": 29,
      "outputs": []
    },
    {
      "cell_type": "code",
      "metadata": {
        "id": "NtL7xqvhPfPm",
        "colab_type": "code",
        "colab": {}
      },
      "source": [
        "#df['SECONDS'] = pd.to_datetime(df['TIME'],format = '%H:%M:%S').dt.second"
      ],
      "execution_count": 30,
      "outputs": []
    },
    {
      "cell_type": "code",
      "metadata": {
        "id": "xSJMkrMZQB5y",
        "colab_type": "code",
        "colab": {}
      },
      "source": [
        "#df.info()"
      ],
      "execution_count": 31,
      "outputs": []
    },
    {
      "cell_type": "code",
      "metadata": {
        "id": "EdbnO93rQM2P",
        "colab_type": "code",
        "colab": {}
      },
      "source": [
        "#df['hour']=df['TIME'].apply(lambda x:x.time().hour)\n",
        "#df['minute']=df['TIME'].apply(lambda x:x.time().minute)\n",
        "#df['second']=df['TIME'].apply(lambda x:x.time().second)"
      ],
      "execution_count": 32,
      "outputs": []
    },
    {
      "cell_type": "code",
      "metadata": {
        "id": "H3WlBxdbRj2L",
        "colab_type": "code",
        "colab": {}
      },
      "source": [
        "# Convert it into Datetime Object\n",
        "df['Date'] = pd.to_datetime(df['DATE_TIME'],format = '%d-%m-%Y %H:%M').dt.date"
      ],
      "execution_count": 33,
      "outputs": []
    },
    {
      "cell_type": "code",
      "metadata": {
        "id": "CH44O3ULctkJ",
        "colab_type": "code",
        "colab": {}
      },
      "source": [
        "df['Time'] = pd.to_datetime(df['DATE_TIME'],format = '%d-%m-%Y %H:%M').dt.time"
      ],
      "execution_count": 34,
      "outputs": []
    },
    {
      "cell_type": "code",
      "metadata": {
        "id": "PIBLHMQGR6-u",
        "colab_type": "code",
        "colab": {
          "base_uri": "https://localhost:8080/",
          "height": 308
        },
        "outputId": "14fe5760-ca60-48ad-beab-70093f08e4f8"
      },
      "source": [
        "df.info()"
      ],
      "execution_count": 35,
      "outputs": [
        {
          "output_type": "stream",
          "text": [
            "<class 'pandas.core.frame.DataFrame'>\n",
            "RangeIndex: 68778 entries, 0 to 68777\n",
            "Data columns (total 9 columns):\n",
            " #   Column       Non-Null Count  Dtype         \n",
            "---  ------       --------------  -----         \n",
            " 0   DATE_TIME    68778 non-null  datetime64[ns]\n",
            " 1   PLANT_ID     68778 non-null  int64         \n",
            " 2   SOURCE_KEY   68778 non-null  object        \n",
            " 3   DC_POWER     68778 non-null  float64       \n",
            " 4   AC_POWER     68778 non-null  float64       \n",
            " 5   DAILY_YIELD  68778 non-null  float64       \n",
            " 6   TOTAL_YIELD  68778 non-null  float64       \n",
            " 7   Date         68778 non-null  object        \n",
            " 8   Time         68778 non-null  object        \n",
            "dtypes: datetime64[ns](1), float64(4), int64(1), object(3)\n",
            "memory usage: 4.7+ MB\n"
          ],
          "name": "stdout"
        }
      ]
    },
    {
      "cell_type": "code",
      "metadata": {
        "id": "6TFbm22qgD1H",
        "colab_type": "code",
        "colab": {
          "base_uri": "https://localhost:8080/",
          "height": 407
        },
        "outputId": "92e7a252-ba5d-4f5b-9d79-7ff8fe5f7505"
      },
      "source": [
        "df"
      ],
      "execution_count": 36,
      "outputs": [
        {
          "output_type": "execute_result",
          "data": {
            "text/html": [
              "<div>\n",
              "<style scoped>\n",
              "    .dataframe tbody tr th:only-of-type {\n",
              "        vertical-align: middle;\n",
              "    }\n",
              "\n",
              "    .dataframe tbody tr th {\n",
              "        vertical-align: top;\n",
              "    }\n",
              "\n",
              "    .dataframe thead th {\n",
              "        text-align: right;\n",
              "    }\n",
              "</style>\n",
              "<table border=\"1\" class=\"dataframe\">\n",
              "  <thead>\n",
              "    <tr style=\"text-align: right;\">\n",
              "      <th></th>\n",
              "      <th>DATE_TIME</th>\n",
              "      <th>PLANT_ID</th>\n",
              "      <th>SOURCE_KEY</th>\n",
              "      <th>DC_POWER</th>\n",
              "      <th>AC_POWER</th>\n",
              "      <th>DAILY_YIELD</th>\n",
              "      <th>TOTAL_YIELD</th>\n",
              "      <th>Date</th>\n",
              "      <th>Time</th>\n",
              "    </tr>\n",
              "  </thead>\n",
              "  <tbody>\n",
              "    <tr>\n",
              "      <th>0</th>\n",
              "      <td>2020-05-15 00:00:00</td>\n",
              "      <td>4135001</td>\n",
              "      <td>1BY6WEcLGh8j5v7</td>\n",
              "      <td>0.0</td>\n",
              "      <td>0.0</td>\n",
              "      <td>0.000</td>\n",
              "      <td>6259559.0</td>\n",
              "      <td>2020-05-15</td>\n",
              "      <td>00:00:00</td>\n",
              "    </tr>\n",
              "    <tr>\n",
              "      <th>1</th>\n",
              "      <td>2020-05-15 00:00:00</td>\n",
              "      <td>4135001</td>\n",
              "      <td>1IF53ai7Xc0U56Y</td>\n",
              "      <td>0.0</td>\n",
              "      <td>0.0</td>\n",
              "      <td>0.000</td>\n",
              "      <td>6183645.0</td>\n",
              "      <td>2020-05-15</td>\n",
              "      <td>00:00:00</td>\n",
              "    </tr>\n",
              "    <tr>\n",
              "      <th>2</th>\n",
              "      <td>2020-05-15 00:00:00</td>\n",
              "      <td>4135001</td>\n",
              "      <td>3PZuoBAID5Wc2HD</td>\n",
              "      <td>0.0</td>\n",
              "      <td>0.0</td>\n",
              "      <td>0.000</td>\n",
              "      <td>6987759.0</td>\n",
              "      <td>2020-05-15</td>\n",
              "      <td>00:00:00</td>\n",
              "    </tr>\n",
              "    <tr>\n",
              "      <th>3</th>\n",
              "      <td>2020-05-15 00:00:00</td>\n",
              "      <td>4135001</td>\n",
              "      <td>7JYdWkrLSPkdwr4</td>\n",
              "      <td>0.0</td>\n",
              "      <td>0.0</td>\n",
              "      <td>0.000</td>\n",
              "      <td>7602960.0</td>\n",
              "      <td>2020-05-15</td>\n",
              "      <td>00:00:00</td>\n",
              "    </tr>\n",
              "    <tr>\n",
              "      <th>4</th>\n",
              "      <td>2020-05-15 00:00:00</td>\n",
              "      <td>4135001</td>\n",
              "      <td>McdE0feGgRqW7Ca</td>\n",
              "      <td>0.0</td>\n",
              "      <td>0.0</td>\n",
              "      <td>0.000</td>\n",
              "      <td>7158964.0</td>\n",
              "      <td>2020-05-15</td>\n",
              "      <td>00:00:00</td>\n",
              "    </tr>\n",
              "    <tr>\n",
              "      <th>...</th>\n",
              "      <td>...</td>\n",
              "      <td>...</td>\n",
              "      <td>...</td>\n",
              "      <td>...</td>\n",
              "      <td>...</td>\n",
              "      <td>...</td>\n",
              "      <td>...</td>\n",
              "      <td>...</td>\n",
              "      <td>...</td>\n",
              "    </tr>\n",
              "    <tr>\n",
              "      <th>68773</th>\n",
              "      <td>2020-06-17 23:45:00</td>\n",
              "      <td>4135001</td>\n",
              "      <td>uHbuxQJl8lW7ozc</td>\n",
              "      <td>0.0</td>\n",
              "      <td>0.0</td>\n",
              "      <td>5967.000</td>\n",
              "      <td>7287002.0</td>\n",
              "      <td>2020-06-17</td>\n",
              "      <td>23:45:00</td>\n",
              "    </tr>\n",
              "    <tr>\n",
              "      <th>68774</th>\n",
              "      <td>2020-06-17 23:45:00</td>\n",
              "      <td>4135001</td>\n",
              "      <td>wCURE6d3bPkepu2</td>\n",
              "      <td>0.0</td>\n",
              "      <td>0.0</td>\n",
              "      <td>5147.625</td>\n",
              "      <td>7028601.0</td>\n",
              "      <td>2020-06-17</td>\n",
              "      <td>23:45:00</td>\n",
              "    </tr>\n",
              "    <tr>\n",
              "      <th>68775</th>\n",
              "      <td>2020-06-17 23:45:00</td>\n",
              "      <td>4135001</td>\n",
              "      <td>z9Y9gH1T5YWrNuG</td>\n",
              "      <td>0.0</td>\n",
              "      <td>0.0</td>\n",
              "      <td>5819.000</td>\n",
              "      <td>7251204.0</td>\n",
              "      <td>2020-06-17</td>\n",
              "      <td>23:45:00</td>\n",
              "    </tr>\n",
              "    <tr>\n",
              "      <th>68776</th>\n",
              "      <td>2020-06-17 23:45:00</td>\n",
              "      <td>4135001</td>\n",
              "      <td>zBIq5rxdHJRwDNY</td>\n",
              "      <td>0.0</td>\n",
              "      <td>0.0</td>\n",
              "      <td>5817.000</td>\n",
              "      <td>6583369.0</td>\n",
              "      <td>2020-06-17</td>\n",
              "      <td>23:45:00</td>\n",
              "    </tr>\n",
              "    <tr>\n",
              "      <th>68777</th>\n",
              "      <td>2020-06-17 23:45:00</td>\n",
              "      <td>4135001</td>\n",
              "      <td>zVJPv84UY57bAof</td>\n",
              "      <td>0.0</td>\n",
              "      <td>0.0</td>\n",
              "      <td>5910.000</td>\n",
              "      <td>7363272.0</td>\n",
              "      <td>2020-06-17</td>\n",
              "      <td>23:45:00</td>\n",
              "    </tr>\n",
              "  </tbody>\n",
              "</table>\n",
              "<p>68778 rows × 9 columns</p>\n",
              "</div>"
            ],
            "text/plain": [
              "                DATE_TIME  PLANT_ID  ...        Date      Time\n",
              "0     2020-05-15 00:00:00   4135001  ...  2020-05-15  00:00:00\n",
              "1     2020-05-15 00:00:00   4135001  ...  2020-05-15  00:00:00\n",
              "2     2020-05-15 00:00:00   4135001  ...  2020-05-15  00:00:00\n",
              "3     2020-05-15 00:00:00   4135001  ...  2020-05-15  00:00:00\n",
              "4     2020-05-15 00:00:00   4135001  ...  2020-05-15  00:00:00\n",
              "...                   ...       ...  ...         ...       ...\n",
              "68773 2020-06-17 23:45:00   4135001  ...  2020-06-17  23:45:00\n",
              "68774 2020-06-17 23:45:00   4135001  ...  2020-06-17  23:45:00\n",
              "68775 2020-06-17 23:45:00   4135001  ...  2020-06-17  23:45:00\n",
              "68776 2020-06-17 23:45:00   4135001  ...  2020-06-17  23:45:00\n",
              "68777 2020-06-17 23:45:00   4135001  ...  2020-06-17  23:45:00\n",
              "\n",
              "[68778 rows x 9 columns]"
            ]
          },
          "metadata": {
            "tags": []
          },
          "execution_count": 36
        }
      ]
    },
    {
      "cell_type": "code",
      "metadata": {
        "id": "eQJIiRQFf0WX",
        "colab_type": "code",
        "colab": {}
      },
      "source": [
        "df['Date'] = pd.to_datetime(df['Date'])\n",
        "df['Time'] = pd.to_datetime(df['Time'],format = '%H:%M:%S') # Here format is necessary"
      ],
      "execution_count": 37,
      "outputs": []
    },
    {
      "cell_type": "code",
      "metadata": {
        "id": "gV4icUGugBLl",
        "colab_type": "code",
        "colab": {
          "base_uri": "https://localhost:8080/",
          "height": 308
        },
        "outputId": "2960960d-7640-476b-d26a-a0e30b180ee6"
      },
      "source": [
        "df.info()"
      ],
      "execution_count": 38,
      "outputs": [
        {
          "output_type": "stream",
          "text": [
            "<class 'pandas.core.frame.DataFrame'>\n",
            "RangeIndex: 68778 entries, 0 to 68777\n",
            "Data columns (total 9 columns):\n",
            " #   Column       Non-Null Count  Dtype         \n",
            "---  ------       --------------  -----         \n",
            " 0   DATE_TIME    68778 non-null  datetime64[ns]\n",
            " 1   PLANT_ID     68778 non-null  int64         \n",
            " 2   SOURCE_KEY   68778 non-null  object        \n",
            " 3   DC_POWER     68778 non-null  float64       \n",
            " 4   AC_POWER     68778 non-null  float64       \n",
            " 5   DAILY_YIELD  68778 non-null  float64       \n",
            " 6   TOTAL_YIELD  68778 non-null  float64       \n",
            " 7   Date         68778 non-null  datetime64[ns]\n",
            " 8   Time         68778 non-null  datetime64[ns]\n",
            "dtypes: datetime64[ns](3), float64(4), int64(1), object(1)\n",
            "memory usage: 4.7+ MB\n"
          ],
          "name": "stdout"
        }
      ]
    },
    {
      "cell_type": "code",
      "metadata": {
        "id": "B-x2izhkc4WI",
        "colab_type": "code",
        "colab": {
          "base_uri": "https://localhost:8080/",
          "height": 363
        },
        "outputId": "54d1edfa-c305-4e95-a3e0-028574aa5d2a"
      },
      "source": [
        "#now we split date and time into hours minutes and seconds\n",
        "df['HOUR']=pd.to_datetime(df['Time'],format='%H:%M:%S').dt.hour\n",
        "df['MINUTE']=pd.to_datetime(df['Time'],format='%H:%M:%S').dt.minute\n",
        "df['SECOND']=pd.to_datetime(df['Time'],format='%H:%M:%S').dt.second\n",
        "df.info()"
      ],
      "execution_count": 39,
      "outputs": [
        {
          "output_type": "stream",
          "text": [
            "<class 'pandas.core.frame.DataFrame'>\n",
            "RangeIndex: 68778 entries, 0 to 68777\n",
            "Data columns (total 12 columns):\n",
            " #   Column       Non-Null Count  Dtype         \n",
            "---  ------       --------------  -----         \n",
            " 0   DATE_TIME    68778 non-null  datetime64[ns]\n",
            " 1   PLANT_ID     68778 non-null  int64         \n",
            " 2   SOURCE_KEY   68778 non-null  object        \n",
            " 3   DC_POWER     68778 non-null  float64       \n",
            " 4   AC_POWER     68778 non-null  float64       \n",
            " 5   DAILY_YIELD  68778 non-null  float64       \n",
            " 6   TOTAL_YIELD  68778 non-null  float64       \n",
            " 7   Date         68778 non-null  datetime64[ns]\n",
            " 8   Time         68778 non-null  datetime64[ns]\n",
            " 9   HOUR         68778 non-null  int64         \n",
            " 10  MINUTE       68778 non-null  int64         \n",
            " 11  SECOND       68778 non-null  int64         \n",
            "dtypes: datetime64[ns](3), float64(4), int64(4), object(1)\n",
            "memory usage: 6.3+ MB\n"
          ],
          "name": "stdout"
        }
      ]
    },
    {
      "cell_type": "code",
      "metadata": {
        "id": "hJtOkap7eUmW",
        "colab_type": "code",
        "colab": {}
      },
      "source": [
        "df['YEAR'] = pd.to_datetime(df['Date'],format ='%Y-%m-%d').dt.year\n",
        "df['MONTH'] = pd.to_datetime(df['Date'],format ='%Y-%m-%d').dt.month\n",
        "df['DAY'] = pd.to_datetime(df['Date'],format ='%Y-%m-%d').dt.day"
      ],
      "execution_count": 40,
      "outputs": []
    },
    {
      "cell_type": "code",
      "metadata": {
        "id": "i-gCc8F2SCIn",
        "colab_type": "code",
        "colab": {
          "base_uri": "https://localhost:8080/",
          "height": 417
        },
        "outputId": "fb526c83-065c-4ac4-a51d-cad9016bb71d"
      },
      "source": [
        "df.info()"
      ],
      "execution_count": 41,
      "outputs": [
        {
          "output_type": "stream",
          "text": [
            "<class 'pandas.core.frame.DataFrame'>\n",
            "RangeIndex: 68778 entries, 0 to 68777\n",
            "Data columns (total 15 columns):\n",
            " #   Column       Non-Null Count  Dtype         \n",
            "---  ------       --------------  -----         \n",
            " 0   DATE_TIME    68778 non-null  datetime64[ns]\n",
            " 1   PLANT_ID     68778 non-null  int64         \n",
            " 2   SOURCE_KEY   68778 non-null  object        \n",
            " 3   DC_POWER     68778 non-null  float64       \n",
            " 4   AC_POWER     68778 non-null  float64       \n",
            " 5   DAILY_YIELD  68778 non-null  float64       \n",
            " 6   TOTAL_YIELD  68778 non-null  float64       \n",
            " 7   Date         68778 non-null  datetime64[ns]\n",
            " 8   Time         68778 non-null  datetime64[ns]\n",
            " 9   HOUR         68778 non-null  int64         \n",
            " 10  MINUTE       68778 non-null  int64         \n",
            " 11  SECOND       68778 non-null  int64         \n",
            " 12  YEAR         68778 non-null  int64         \n",
            " 13  MONTH        68778 non-null  int64         \n",
            " 14  DAY          68778 non-null  int64         \n",
            "dtypes: datetime64[ns](3), float64(4), int64(7), object(1)\n",
            "memory usage: 7.9+ MB\n"
          ],
          "name": "stdout"
        }
      ]
    },
    {
      "cell_type": "code",
      "metadata": {
        "id": "sSO7hsxeeZYv",
        "colab_type": "code",
        "colab": {
          "base_uri": "https://localhost:8080/",
          "height": 654
        },
        "outputId": "a8be4161-45db-4d6c-bbab-762ffb897693"
      },
      "source": [
        "# Playing with Dates\n",
        "date_unique = df['Date'].value_counts() # It displays count of unique dates\n",
        "date_unique"
      ],
      "execution_count": 42,
      "outputs": [
        {
          "output_type": "execute_result",
          "data": {
            "text/plain": [
              "2020-05-18    2112\n",
              "2020-06-14    2112\n",
              "2020-06-01    2112\n",
              "2020-05-30    2112\n",
              "2020-06-08    2112\n",
              "2020-06-15    2112\n",
              "2020-06-11    2112\n",
              "2020-06-10    2112\n",
              "2020-06-12    2112\n",
              "2020-05-17    2112\n",
              "2020-06-16    2112\n",
              "2020-06-09    2112\n",
              "2020-05-24    2112\n",
              "2020-06-13    2112\n",
              "2020-06-07    2112\n",
              "2020-05-31    2106\n",
              "2020-06-03    2094\n",
              "2020-06-02    2088\n",
              "2020-06-05    2080\n",
              "2020-05-26    2072\n",
              "2020-06-17    2068\n",
              "2020-05-25    2060\n",
              "2020-06-04    2052\n",
              "2020-06-06    2052\n",
              "2020-05-27    2052\n",
              "2020-05-22    2028\n",
              "2020-05-19    1990\n",
              "2020-05-28    1980\n",
              "2020-05-23    1958\n",
              "2020-05-15    1954\n",
              "2020-05-16    1934\n",
              "2020-05-20    1672\n",
              "2020-05-29    1490\n",
              "2020-05-21    1368\n",
              "Name: Date, dtype: int64"
            ]
          },
          "metadata": {
            "tags": []
          },
          "execution_count": 42
        }
      ]
    },
    {
      "cell_type": "code",
      "metadata": {
        "id": "ydOSkygzetbb",
        "colab_type": "code",
        "colab": {
          "base_uri": "https://localhost:8080/",
          "height": 54
        },
        "outputId": "ebf37e06-c05c-44c5-d4a7-9b7e4097e691"
      },
      "source": [
        "df['DAY'].unique()"
      ],
      "execution_count": 43,
      "outputs": [
        {
          "output_type": "execute_result",
          "data": {
            "text/plain": [
              "array([15, 16, 17, 18, 19, 20, 21, 22, 23, 24, 25, 26, 27, 28, 29, 30, 31,\n",
              "        1,  2,  3,  4,  5,  6,  7,  8,  9, 10, 11, 12, 13, 14])"
            ]
          },
          "metadata": {
            "tags": []
          },
          "execution_count": 43
        }
      ]
    },
    {
      "cell_type": "code",
      "metadata": {
        "id": "drVQcwk7l68R",
        "colab_type": "code",
        "colab": {
          "base_uri": "https://localhost:8080/",
          "height": 35
        },
        "outputId": "03211709-7b88-45bd-d55f-6c9ac616cb3e"
      },
      "source": [
        "type(df['Date'].value_counts())"
      ],
      "execution_count": 44,
      "outputs": [
        {
          "output_type": "execute_result",
          "data": {
            "text/plain": [
              "pandas.core.series.Series"
            ]
          },
          "metadata": {
            "tags": []
          },
          "execution_count": 44
        }
      ]
    },
    {
      "cell_type": "code",
      "metadata": {
        "id": "iaCiQqUDn7md",
        "colab_type": "code",
        "colab": {
          "base_uri": "https://localhost:8080/",
          "height": 616
        },
        "outputId": "f08af271-105f-47fc-f000-c38d0750c223"
      },
      "source": [
        "import matplotlib.pyplot as plt\n",
        "plt.figure(figsize=(20,10))\n",
        "plt.bar(date_unique.index,date_unique)\n",
        "plt.xticks(ticks=date_unique.index,rotation=90)\n",
        "plt.show()"
      ],
      "execution_count": 45,
      "outputs": [
        {
          "output_type": "display_data",
          "data": {
            "image/png": "[encoded data removed]",
            "text/plain": [
              "<Figure size 1440x720 with 1 Axes>"
            ]
          },
          "metadata": {
            "tags": [],
            "needs_background": "light"
          }
        }
      ]
    },
    {
      "cell_type": "code",
      "metadata": {
        "id": "3ZW08s_HoTag",
        "colab_type": "code",
        "colab": {
          "base_uri": "https://localhost:8080/",
          "height": 35
        },
        "outputId": "c37b8ff9-43f7-42bc-d7b3-b5bf79432219"
      },
      "source": [
        "# Starting Date\n",
        "df['Date'].min()"
      ],
      "execution_count": 46,
      "outputs": [
        {
          "output_type": "execute_result",
          "data": {
            "text/plain": [
              "Timestamp('2020-05-15 00:00:00')"
            ]
          },
          "metadata": {
            "tags": []
          },
          "execution_count": 46
        }
      ]
    },
    {
      "cell_type": "code",
      "metadata": {
        "id": "w_77TQdesANW",
        "colab_type": "code",
        "colab": {
          "base_uri": "https://localhost:8080/",
          "height": 35
        },
        "outputId": "e1980ffc-f724-4f39-dcdc-68334f13fea6"
      },
      "source": [
        "# Ending Date\n",
        "df['Date'].max()"
      ],
      "execution_count": 47,
      "outputs": [
        {
          "output_type": "execute_result",
          "data": {
            "text/plain": [
              "Timestamp('2020-06-17 00:00:00')"
            ]
          },
          "metadata": {
            "tags": []
          },
          "execution_count": 47
        }
      ]
    },
    {
      "cell_type": "code",
      "metadata": {
        "id": "IuUrFUI-sMWx",
        "colab_type": "code",
        "colab": {
          "base_uri": "https://localhost:8080/",
          "height": 235
        },
        "outputId": "23ee0a4c-c40f-449b-cec0-6db3bf093172"
      },
      "source": [
        "df['Date'].sort_values()"
      ],
      "execution_count": 48,
      "outputs": [
        {
          "output_type": "execute_result",
          "data": {
            "text/plain": [
              "0       2020-05-15\n",
              "1310    2020-05-15\n",
              "1309    2020-05-15\n",
              "1308    2020-05-15\n",
              "1307    2020-05-15\n",
              "           ...    \n",
              "67390   2020-06-17\n",
              "67389   2020-06-17\n",
              "67388   2020-06-17\n",
              "67418   2020-06-17\n",
              "68777   2020-06-17\n",
              "Name: Date, Length: 68778, dtype: datetime64[ns]"
            ]
          },
          "metadata": {
            "tags": []
          },
          "execution_count": 48
        }
      ]
    },
    {
      "cell_type": "code",
      "metadata": {
        "id": "IVPlRsmMfmS5",
        "colab_type": "code",
        "colab": {
          "base_uri": "https://localhost:8080/",
          "height": 654
        },
        "outputId": "53d384cf-0bb5-4868-ed40-4dec998b2b44"
      },
      "source": [
        "date_unique.sort_index()"
      ],
      "execution_count": 51,
      "outputs": [
        {
          "output_type": "execute_result",
          "data": {
            "text/plain": [
              "2020-05-15    1954\n",
              "2020-05-16    1934\n",
              "2020-05-17    2112\n",
              "2020-05-18    2112\n",
              "2020-05-19    1990\n",
              "2020-05-20    1672\n",
              "2020-05-21    1368\n",
              "2020-05-22    2028\n",
              "2020-05-23    1958\n",
              "2020-05-24    2112\n",
              "2020-05-25    2060\n",
              "2020-05-26    2072\n",
              "2020-05-27    2052\n",
              "2020-05-28    1980\n",
              "2020-05-29    1490\n",
              "2020-05-30    2112\n",
              "2020-05-31    2106\n",
              "2020-06-01    2112\n",
              "2020-06-02    2088\n",
              "2020-06-03    2094\n",
              "2020-06-04    2052\n",
              "2020-06-05    2080\n",
              "2020-06-06    2052\n",
              "2020-06-07    2112\n",
              "2020-06-08    2112\n",
              "2020-06-09    2112\n",
              "2020-06-10    2112\n",
              "2020-06-11    2112\n",
              "2020-06-12    2112\n",
              "2020-06-13    2112\n",
              "2020-06-14    2112\n",
              "2020-06-15    2112\n",
              "2020-06-16    2112\n",
              "2020-06-17    2068\n",
              "Name: Date, dtype: int64"
            ]
          },
          "metadata": {
            "tags": []
          },
          "execution_count": 51
        }
      ]
    },
    {
      "cell_type": "code",
      "metadata": {
        "id": "Nr8GX0iNfxHO",
        "colab_type": "code",
        "colab": {}
      },
      "source": [
        ""
      ],
      "execution_count": null,
      "outputs": []
    },
    {
      "cell_type": "code",
      "metadata": {
        "id": "HoAatOE4sdar",
        "colab_type": "code",
        "colab": {
          "base_uri": "https://localhost:8080/",
          "height": 188
        },
        "outputId": "43a1f331-f0d3-4b26-98c2-d4302745a4a1"
      },
      "source": [
        "date_unique.index.sort_values()"
      ],
      "execution_count": null,
      "outputs": [
        {
          "output_type": "execute_result",
          "data": {
            "text/plain": [
              "DatetimeIndex(['2020-05-15', '2020-05-16', '2020-05-17', '2020-05-18',\n",
              "               '2020-05-19', '2020-05-20', '2020-05-21', '2020-05-22',\n",
              "               '2020-05-23', '2020-05-24', '2020-05-25', '2020-05-26',\n",
              "               '2020-05-27', '2020-05-28', '2020-05-29', '2020-05-30',\n",
              "               '2020-05-31', '2020-06-01', '2020-06-02', '2020-06-03',\n",
              "               '2020-06-04', '2020-06-05', '2020-06-06', '2020-06-07',\n",
              "               '2020-06-08', '2020-06-09', '2020-06-10', '2020-06-11',\n",
              "               '2020-06-12', '2020-06-13', '2020-06-14', '2020-06-15',\n",
              "               '2020-06-16', '2020-06-17'],\n",
              "              dtype='datetime64[ns]', freq=None)"
            ]
          },
          "metadata": {
            "tags": []
          },
          "execution_count": 83
        }
      ]
    },
    {
      "cell_type": "code",
      "metadata": {
        "id": "G0FM-w8WvETS",
        "colab_type": "code",
        "colab": {
          "base_uri": "https://localhost:8080/",
          "height": 857
        },
        "outputId": "c5d5c00d-ffcc-4436-f8e0-f8a3b14af298"
      },
      "source": [
        "# Playing with Time\n",
        "time_unique = df['Time'].value_counts()\n",
        "time_unique.index.sort_values()\n",
        "# Time difference between each value from Inverter spread across 24 hours"
      ],
      "execution_count": null,
      "outputs": [
        {
          "output_type": "execute_result",
          "data": {
            "text/plain": [
              "DatetimeIndex(['1900-01-01 00:00:00', '1900-01-01 00:15:00',\n",
              "               '1900-01-01 00:30:00', '1900-01-01 00:45:00',\n",
              "               '1900-01-01 01:00:00', '1900-01-01 01:15:00',\n",
              "               '1900-01-01 01:30:00', '1900-01-01 01:45:00',\n",
              "               '1900-01-01 02:00:00', '1900-01-01 02:15:00',\n",
              "               '1900-01-01 02:30:00', '1900-01-01 02:45:00',\n",
              "               '1900-01-01 03:00:00', '1900-01-01 03:15:00',\n",
              "               '1900-01-01 03:30:00', '1900-01-01 03:45:00',\n",
              "               '1900-01-01 04:00:00', '1900-01-01 04:15:00',\n",
              "               '1900-01-01 04:30:00', '1900-01-01 04:45:00',\n",
              "               '1900-01-01 05:00:00', '1900-01-01 05:15:00',\n",
              "               '1900-01-01 05:30:00', '1900-01-01 05:45:00',\n",
              "               '1900-01-01 06:00:00', '1900-01-01 06:15:00',\n",
              "               '1900-01-01 06:30:00', '1900-01-01 06:45:00',\n",
              "               '1900-01-01 07:00:00', '1900-01-01 07:15:00',\n",
              "               '1900-01-01 07:30:00', '1900-01-01 07:45:00',\n",
              "               '1900-01-01 08:00:00', '1900-01-01 08:15:00',\n",
              "               '1900-01-01 08:30:00', '1900-01-01 08:45:00',\n",
              "               '1900-01-01 09:00:00', '1900-01-01 09:15:00',\n",
              "               '1900-01-01 09:30:00', '1900-01-01 09:45:00',\n",
              "               '1900-01-01 10:00:00', '1900-01-01 10:15:00',\n",
              "               '1900-01-01 10:30:00', '1900-01-01 10:45:00',\n",
              "               '1900-01-01 11:00:00', '1900-01-01 11:15:00',\n",
              "               '1900-01-01 11:30:00', '1900-01-01 11:45:00',\n",
              "               '1900-01-01 12:00:00', '1900-01-01 12:15:00',\n",
              "               '1900-01-01 12:30:00', '1900-01-01 12:45:00',\n",
              "               '1900-01-01 13:00:00', '1900-01-01 13:15:00',\n",
              "               '1900-01-01 13:30:00', '1900-01-01 13:45:00',\n",
              "               '1900-01-01 14:00:00', '1900-01-01 14:15:00',\n",
              "               '1900-01-01 14:30:00', '1900-01-01 14:45:00',\n",
              "               '1900-01-01 15:00:00', '1900-01-01 15:15:00',\n",
              "               '1900-01-01 15:30:00', '1900-01-01 15:45:00',\n",
              "               '1900-01-01 16:00:00', '1900-01-01 16:15:00',\n",
              "               '1900-01-01 16:30:00', '1900-01-01 16:45:00',\n",
              "               '1900-01-01 17:00:00', '1900-01-01 17:15:00',\n",
              "               '1900-01-01 17:30:00', '1900-01-01 17:45:00',\n",
              "               '1900-01-01 18:00:00', '1900-01-01 18:15:00',\n",
              "               '1900-01-01 18:30:00', '1900-01-01 18:45:00',\n",
              "               '1900-01-01 19:00:00', '1900-01-01 19:15:00',\n",
              "               '1900-01-01 19:30:00', '1900-01-01 19:45:00',\n",
              "               '1900-01-01 20:00:00', '1900-01-01 20:15:00',\n",
              "               '1900-01-01 20:30:00', '1900-01-01 20:45:00',\n",
              "               '1900-01-01 21:00:00', '1900-01-01 21:15:00',\n",
              "               '1900-01-01 21:30:00', '1900-01-01 21:45:00',\n",
              "               '1900-01-01 22:00:00', '1900-01-01 22:15:00',\n",
              "               '1900-01-01 22:30:00', '1900-01-01 22:45:00',\n",
              "               '1900-01-01 23:00:00', '1900-01-01 23:15:00',\n",
              "               '1900-01-01 23:30:00', '1900-01-01 23:45:00'],\n",
              "              dtype='datetime64[ns]', freq=None)"
            ]
          },
          "metadata": {
            "tags": []
          },
          "execution_count": 86
        }
      ]
    },
    {
      "cell_type": "code",
      "metadata": {
        "id": "xMrL2S0_xXze",
        "colab_type": "code",
        "colab": {
          "base_uri": "https://localhost:8080/",
          "height": 223
        },
        "outputId": "25c2428c-1ab1-495a-fc2d-19b64115da17"
      },
      "source": [
        "time_unique"
      ],
      "execution_count": null,
      "outputs": [
        {
          "output_type": "execute_result",
          "data": {
            "text/plain": [
              "1900-01-01 21:30:00    748\n",
              "1900-01-01 08:30:00    748\n",
              "1900-01-01 09:15:00    748\n",
              "1900-01-01 10:15:00    748\n",
              "1900-01-01 09:00:00    748\n",
              "                      ... \n",
              "1900-01-01 05:30:00    663\n",
              "1900-01-01 05:45:00    659\n",
              "1900-01-01 19:00:00    648\n",
              "1900-01-01 18:45:00    648\n",
              "1900-01-01 19:15:00    647\n",
              "Name: Time, Length: 96, dtype: int64"
            ]
          },
          "metadata": {
            "tags": []
          },
          "execution_count": 90
        }
      ]
    },
    {
      "cell_type": "code",
      "metadata": {
        "id": "G_LbHvybvVz5",
        "colab_type": "code",
        "colab": {}
      },
      "source": [
        ""
      ],
      "execution_count": null,
      "outputs": []
    },
    {
      "cell_type": "code",
      "metadata": {
        "id": "Su60whzQtZxu",
        "colab_type": "code",
        "colab": {}
      },
      "source": [
        "# NOTE : We have data over a month (34 days)\n",
        "# 15th May,2020 to 17th June , 2020\n",
        "\n",
        "# On an average we have 2000 readings every day"
      ],
      "execution_count": null,
      "outputs": []
    },
    {
      "cell_type": "code",
      "metadata": {
        "id": "cFkcgxAtumNi",
        "colab_type": "code",
        "colab": {}
      },
      "source": [
        "# 22 Inverters collecting data every 15 minutes(4 readings per hour) for 24 hours"
      ],
      "execution_count": null,
      "outputs": []
    },
    {
      "cell_type": "code",
      "metadata": {
        "id": "EhvRnYIxwNPw",
        "colab_type": "code",
        "colab": {
          "base_uri": "https://localhost:8080/",
          "height": 34
        },
        "outputId": "e9baa4f2-4da6-4911-a299-7f94277509cd"
      },
      "source": [
        "22*4*24"
      ],
      "execution_count": null,
      "outputs": [
        {
          "output_type": "execute_result",
          "data": {
            "text/plain": [
              "2112"
            ]
          },
          "metadata": {
            "tags": []
          },
          "execution_count": 89
        }
      ]
    },
    {
      "cell_type": "code",
      "metadata": {
        "id": "FjhR-Xg6wXg1",
        "colab_type": "code",
        "colab": {}
      },
      "source": [
        ""
      ],
      "execution_count": null,
      "outputs": []
    }
  ]
}