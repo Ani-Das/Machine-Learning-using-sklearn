{
  "nbformat": 4,
  "nbformat_minor": 0,
  "metadata": {
    "kernelspec": {
      "display_name": "Python 3",
      "language": "python",
      "name": "python3"
    },
    "language_info": {
      "codemirror_mode": {
        "name": "ipython",
        "version": 3
      },
      "file_extension": ".py",
      "mimetype": "text/x-python",
      "name": "python",
      "nbconvert_exporter": "python",
      "pygments_lexer": "ipython3",
      "version": "3.7.6"
    },
    "colab": {
      "name": "Logistic Regression.ipynb",
      "provenance": [],
      "include_colab_link": true
    }
  },
  "cells": [
    {
      "cell_type": "markdown",
      "metadata": {
        "id": "view-in-github",
        "colab_type": "text"
      },
      "source": [
        "<a href=\"https://colab.research.google.com/github/diazonic/Machine-Learning-using-sklearn/blob/master/Logistic_Regression.ipynb\" target=\"_parent\"><img src=\"https://colab.research.google.com/assets/colab-badge.svg\" alt=\"Open In Colab\"/></a>"
      ]
    },
    {
      "cell_type": "markdown",
      "metadata": {
        "id": "XAC1V0PNGOUa"
      },
      "source": [
        "## Import Dataset"
      ]
    },
    {
      "cell_type": "code",
      "metadata": {
        "id": "dmWNkZU_GOUm"
      },
      "source": [
        "from sklearn.datasets import load_iris\n",
        "data = load_iris()"
      ],
      "execution_count": 1,
      "outputs": []
    },
    {
      "cell_type": "code",
      "metadata": {
        "id": "6i-YJDgaGOUo"
      },
      "source": [
        "# print(data.DESCR)\n",
        "X = data.data\n",
        "Y = data.target"
      ],
      "execution_count": 2,
      "outputs": []
    },
    {
      "cell_type": "markdown",
      "metadata": {
        "id": "W-ZJsDq9GOUp"
      },
      "source": [
        "## Train-Test Split"
      ]
    },
    {
      "cell_type": "code",
      "metadata": {
        "id": "_QLMJXUFGOUp"
      },
      "source": [
        "from sklearn.model_selection import train_test_split\n",
        "# print(train_test_split.__doc__)\n",
        "Xtrn, Xtst, Ytrn, Ytst = train_test_split(X,Y, train_size = 0.8, random_state = 100)"
      ],
      "execution_count": 3,
      "outputs": []
    },
    {
      "cell_type": "code",
      "metadata": {
        "colab": {
          "base_uri": "https://localhost:8080/"
        },
        "id": "9VpRb5hrGOUq",
        "outputId": "4227bcb4-cf1b-4045-add5-c49141029f76"
      },
      "source": [
        "print(Xtrn.shape)\n",
        "print(Ytrn.shape)\n",
        "print(Xtst.shape)\n",
        "print(Ytst.shape)"
      ],
      "execution_count": 4,
      "outputs": [
        {
          "output_type": "stream",
          "text": [
            "(120, 4)\n",
            "(120,)\n",
            "(30, 4)\n",
            "(30,)\n"
          ],
          "name": "stdout"
        }
      ]
    },
    {
      "cell_type": "markdown",
      "metadata": {
        "id": "ayCKN3rjGOUr"
      },
      "source": [
        "## Training Logistic Regression"
      ]
    },
    {
      "cell_type": "code",
      "metadata": {
        "id": "HhXg6SGqGgS1"
      },
      "source": [
        ""
      ],
      "execution_count": null,
      "outputs": []
    },
    {
      "cell_type": "code",
      "metadata": {
        "id": "x8B3m8s7GOUr"
      },
      "source": [
        "from sklearn.linear_model import LogisticRegression"
      ],
      "execution_count": 5,
      "outputs": []
    },
    {
      "cell_type": "code",
      "metadata": {
        "id": "evgEy2L3GOUs"
      },
      "source": [
        "model1 = LogisticRegression()"
      ],
      "execution_count": 6,
      "outputs": []
    },
    {
      "cell_type": "code",
      "metadata": {
        "colab": {
          "base_uri": "https://localhost:8080/"
        },
        "id": "41HMzL8uGOUs",
        "outputId": "c7e61364-5a8a-4371-8ce1-98292588aba6"
      },
      "source": [
        "model1.fit(Xtrn,Ytrn)"
      ],
      "execution_count": 7,
      "outputs": [
        {
          "output_type": "execute_result",
          "data": {
            "text/plain": [
              "LogisticRegression(C=1.0, class_weight=None, dual=False, fit_intercept=True,\n",
              "                   intercept_scaling=1, l1_ratio=None, max_iter=100,\n",
              "                   multi_class='auto', n_jobs=None, penalty='l2',\n",
              "                   random_state=None, solver='lbfgs', tol=0.0001, verbose=0,\n",
              "                   warm_start=False)"
            ]
          },
          "metadata": {
            "tags": []
          },
          "execution_count": 7
        }
      ]
    },
    {
      "cell_type": "markdown",
      "metadata": {
        "id": "zU7E0ZdsGOUt"
      },
      "source": [
        "## Evaluation of model"
      ]
    },
    {
      "cell_type": "code",
      "metadata": {
        "colab": {
          "base_uri": "https://localhost:8080/"
        },
        "id": "_aBV1DCqGl5D",
        "outputId": "288b349c-fa1f-4cb2-b2e3-606fd34adb59"
      },
      "source": [
        "model1.coef_"
      ],
      "execution_count": 8,
      "outputs": [
        {
          "output_type": "execute_result",
          "data": {
            "text/plain": [
              "array([[-0.42028991,  0.9077611 , -2.39052659, -1.02908634],\n",
              "       [ 0.49993003, -0.34355113, -0.20185085, -0.79988824],\n",
              "       [-0.07964012, -0.56420996,  2.59237743,  1.82897457]])"
            ]
          },
          "metadata": {
            "tags": []
          },
          "execution_count": 8
        }
      ]
    },
    {
      "cell_type": "code",
      "metadata": {
        "colab": {
          "base_uri": "https://localhost:8080/"
        },
        "id": "74vNAAxBGoTL",
        "outputId": "612e6eda-b27b-4ccc-8b92-901f283d3265"
      },
      "source": [
        "model1.intercept_"
      ],
      "execution_count": 9,
      "outputs": [
        {
          "output_type": "execute_result",
          "data": {
            "text/plain": [
              "array([  9.39881055,   2.2393347 , -11.63814525])"
            ]
          },
          "metadata": {
            "tags": []
          },
          "execution_count": 9
        }
      ]
    },
    {
      "cell_type": "code",
      "metadata": {
        "colab": {
          "base_uri": "https://localhost:8080/"
        },
        "id": "TFZIjsY6HGnz",
        "outputId": "191afe4d-4258-4614-ddfa-12d73f8421a7"
      },
      "source": [
        "from sklearn.linear_model import LinearRegression\r\n",
        "model2 = LinearRegression()\r\n",
        "model2.fit(Xtrn,Ytrn)"
      ],
      "execution_count": 10,
      "outputs": [
        {
          "output_type": "execute_result",
          "data": {
            "text/plain": [
              "LinearRegression(copy_X=True, fit_intercept=True, n_jobs=None, normalize=False)"
            ]
          },
          "metadata": {
            "tags": []
          },
          "execution_count": 10
        }
      ]
    },
    {
      "cell_type": "code",
      "metadata": {
        "colab": {
          "base_uri": "https://localhost:8080/"
        },
        "id": "BzbZEpfAHSDK",
        "outputId": "1f34f2dd-d043-46fc-9654-b47371d44128"
      },
      "source": [
        "model2.coef_"
      ],
      "execution_count": 11,
      "outputs": [
        {
          "output_type": "execute_result",
          "data": {
            "text/plain": [
              "array([-0.0946239 , -0.05687344,  0.22803752,  0.58254527])"
            ]
          },
          "metadata": {
            "tags": []
          },
          "execution_count": 11
        }
      ]
    },
    {
      "cell_type": "code",
      "metadata": {
        "colab": {
          "base_uri": "https://localhost:8080/"
        },
        "id": "yWAdO-liHV_6",
        "outputId": "acafc123-7fd9-492e-85a6-4b52ef34714c"
      },
      "source": [
        "model2.intercept_"
      ],
      "execution_count": 12,
      "outputs": [
        {
          "output_type": "execute_result",
          "data": {
            "text/plain": [
              "0.1626184261462087"
            ]
          },
          "metadata": {
            "tags": []
          },
          "execution_count": 12
        }
      ]
    },
    {
      "cell_type": "code",
      "metadata": {
        "id": "hCgr9GbvGOUt"
      },
      "source": [
        "Ypred = model1.predict(Xtst)"
      ],
      "execution_count": 16,
      "outputs": []
    },
    {
      "cell_type": "code",
      "metadata": {
        "colab": {
          "base_uri": "https://localhost:8080/"
        },
        "id": "ccV7Nl5lGOUu",
        "outputId": "1eac9ef7-b6d0-4747-c889-4e547d6bfc7f"
      },
      "source": [
        "print(Ytst)\n",
        "print(Ypred)"
      ],
      "execution_count": 17,
      "outputs": [
        {
          "output_type": "stream",
          "text": [
            "[2 0 2 0 2 2 0 0 2 0 0 2 0 0 2 1 1 1 2 2 2 0 2 0 1 2 1 0 1 2]\n",
            "[2 0 2 0 2 2 0 0 2 0 0 2 0 0 2 1 1 2 2 2 2 0 2 0 1 2 1 0 1 2]\n"
          ],
          "name": "stdout"
        }
      ]
    },
    {
      "cell_type": "markdown",
      "metadata": {
        "id": "eiXkYJYzGOUu"
      },
      "source": [
        "### 1.Accuracy"
      ]
    },
    {
      "cell_type": "code",
      "metadata": {
        "colab": {
          "base_uri": "https://localhost:8080/",
          "height": 35
        },
        "id": "LDpwckDBOi4o",
        "outputId": "bf27c2b7-8127-4b25-dfa7-9fa3af95804d"
      },
      "source": [
        "data.target_names[model1.predict([[6.5,3.0,5.2,2.0]])[0]]"
      ],
      "execution_count": 35,
      "outputs": [
        {
          "output_type": "execute_result",
          "data": {
            "application/vnd.google.colaboratory.intrinsic+json": {
              "type": "string"
            },
            "text/plain": [
              "'virginica'"
            ]
          },
          "metadata": {
            "tags": []
          },
          "execution_count": 35
        }
      ]
    },
    {
      "cell_type": "code",
      "metadata": {
        "colab": {
          "base_uri": "https://localhost:8080/"
        },
        "id": "sEpixlIROodr",
        "outputId": "a3dba4e5-4efa-42de-e76e-f0c64e8c9025"
      },
      "source": [
        "data.target_names"
      ],
      "execution_count": 33,
      "outputs": [
        {
          "output_type": "execute_result",
          "data": {
            "text/plain": [
              "array(['setosa', 'versicolor', 'virginica'], dtype='<U10')"
            ]
          },
          "metadata": {
            "tags": []
          },
          "execution_count": 33
        }
      ]
    },
    {
      "cell_type": "code",
      "metadata": {
        "colab": {
          "base_uri": "https://localhost:8080/"
        },
        "id": "8PEPCI_GGOUu",
        "outputId": "3bfacbda-1e82-4bf8-e5d9-9ec9223de246"
      },
      "source": [
        "from sklearn.metrics import accuracy_score\n",
        "acc = accuracy_score(Ytst,Ypred)\n",
        "acc"
      ],
      "execution_count": 18,
      "outputs": [
        {
          "output_type": "execute_result",
          "data": {
            "text/plain": [
              "0.9666666666666667"
            ]
          },
          "metadata": {
            "tags": []
          },
          "execution_count": 18
        }
      ]
    },
    {
      "cell_type": "markdown",
      "metadata": {
        "id": "V5uxjkl8GOUv"
      },
      "source": [
        "### 2.Confusion Matrix"
      ]
    },
    {
      "cell_type": "code",
      "metadata": {
        "colab": {
          "base_uri": "https://localhost:8080/"
        },
        "id": "U-_Dz6j9GOUv",
        "outputId": "beacd39e-18b9-4c17-ab97-6f2a5fde0f97"
      },
      "source": [
        "from sklearn.metrics import confusion_matrix\n",
        "# print(confusion_matrix.__doc__)\n",
        "#columns represent Predicted class, Rows represent Actual Class\n",
        "cm = confusion_matrix(Ytst,Ypred,labels=[0,1,2])\n",
        "cm\n",
        "\n",
        "# It was supposed to be 1 but is 2\n"
      ],
      "execution_count": 20,
      "outputs": [
        {
          "output_type": "execute_result",
          "data": {
            "text/plain": [
              "array([[11,  0,  0],\n",
              "       [ 0,  5,  1],\n",
              "       [ 0,  0, 13]])"
            ]
          },
          "metadata": {
            "tags": []
          },
          "execution_count": 20
        }
      ]
    },
    {
      "cell_type": "markdown",
      "metadata": {
        "id": "dQZdVk2CGOUw"
      },
      "source": [
        "### 3.Recall Matrix"
      ]
    },
    {
      "cell_type": "code",
      "metadata": {
        "colab": {
          "base_uri": "https://localhost:8080/"
        },
        "id": "fVl8hWF2GOUw",
        "outputId": "e6e0de6a-3a88-4325-e48e-e9f3a0f9b2c7"
      },
      "source": [
        "# #Predicted/ #Actual class\n",
        "rm =(((cm.T)/(cm.sum(axis=1))).T) #Recall\n",
        "rm"
      ],
      "execution_count": 21,
      "outputs": [
        {
          "output_type": "execute_result",
          "data": {
            "text/plain": [
              "array([[1.        , 0.        , 0.        ],\n",
              "       [0.        , 0.83333333, 0.16666667],\n",
              "       [0.        , 0.        , 1.        ]])"
            ]
          },
          "metadata": {
            "tags": []
          },
          "execution_count": 21
        }
      ]
    },
    {
      "cell_type": "code",
      "metadata": {
        "colab": {
          "base_uri": "https://localhost:8080/"
        },
        "id": "3d5oJXxSNc4H",
        "outputId": "8c81c3f6-32ed-4050-de08-67770228e0cf"
      },
      "source": [
        "5/6"
      ],
      "execution_count": 26,
      "outputs": [
        {
          "output_type": "execute_result",
          "data": {
            "text/plain": [
              "0.8333333333333334"
            ]
          },
          "metadata": {
            "tags": []
          },
          "execution_count": 26
        }
      ]
    },
    {
      "cell_type": "code",
      "metadata": {
        "colab": {
          "base_uri": "https://localhost:8080/"
        },
        "id": "c0hbplugNfQ3",
        "outputId": "6adcb46d-07ee-4f2a-bfec-df33ad059fe2"
      },
      "source": [
        "1/6"
      ],
      "execution_count": 27,
      "outputs": [
        {
          "output_type": "execute_result",
          "data": {
            "text/plain": [
              "0.16666666666666666"
            ]
          },
          "metadata": {
            "tags": []
          },
          "execution_count": 27
        }
      ]
    },
    {
      "cell_type": "markdown",
      "metadata": {
        "id": "eflS9pdEGOUw"
      },
      "source": [
        "### 4.Precision Matrix"
      ]
    },
    {
      "cell_type": "code",
      "metadata": {
        "colab": {
          "base_uri": "https://localhost:8080/"
        },
        "id": "FAILkWajMBos",
        "outputId": "ebe97765-d2c1-499b-9192-95f3c9e17ef3"
      },
      "source": [
        "1/13"
      ],
      "execution_count": 29,
      "outputs": [
        {
          "output_type": "execute_result",
          "data": {
            "text/plain": [
              "0.07692307692307693"
            ]
          },
          "metadata": {
            "tags": []
          },
          "execution_count": 29
        }
      ]
    },
    {
      "cell_type": "code",
      "metadata": {
        "colab": {
          "base_uri": "https://localhost:8080/"
        },
        "id": "4Ii9WEfEGOUw",
        "outputId": "fe6a90c0-8361-4045-fc6f-72cc32a1514b"
      },
      "source": [
        "# #Actual Class/ #Prediction\n",
        "pm =(cm/cm.sum(axis=0)) #Precision \n",
        "pm"
      ],
      "execution_count": 22,
      "outputs": [
        {
          "output_type": "execute_result",
          "data": {
            "text/plain": [
              "array([[1.        , 0.        , 0.        ],\n",
              "       [0.        , 1.        , 0.07142857],\n",
              "       [0.        , 0.        , 0.92857143]])"
            ]
          },
          "metadata": {
            "tags": []
          },
          "execution_count": 22
        }
      ]
    },
    {
      "cell_type": "code",
      "metadata": {
        "colab": {
          "base_uri": "https://localhost:8080/"
        },
        "id": "hU7uMogZNjvm",
        "outputId": "78dbe8d1-29ba-4be4-abb9-081cc79a88fe"
      },
      "source": [
        "13/14"
      ],
      "execution_count": 30,
      "outputs": [
        {
          "output_type": "execute_result",
          "data": {
            "text/plain": [
              "0.9285714285714286"
            ]
          },
          "metadata": {
            "tags": []
          },
          "execution_count": 30
        }
      ]
    },
    {
      "cell_type": "markdown",
      "metadata": {
        "id": "dgEpq663GOUx"
      },
      "source": [
        "### 5.F1 Score"
      ]
    },
    {
      "cell_type": "code",
      "metadata": {
        "colab": {
          "base_uri": "https://localhost:8080/"
        },
        "id": "0IEImkPPGOUx",
        "outputId": "5f386ff5-4d0f-4870-c95f-c3e38a9b0788"
      },
      "source": [
        "F1 = 2*pm*rm/(pm+rm)"
      ],
      "execution_count": 23,
      "outputs": [
        {
          "output_type": "stream",
          "text": [
            "/usr/local/lib/python3.7/dist-packages/ipykernel_launcher.py:1: RuntimeWarning: invalid value encountered in true_divide\n",
            "  \"\"\"Entry point for launching an IPython kernel.\n"
          ],
          "name": "stderr"
        }
      ]
    },
    {
      "cell_type": "code",
      "metadata": {
        "colab": {
          "base_uri": "https://localhost:8080/"
        },
        "id": "TEXn6alTJLKp",
        "outputId": "242470bc-b342-4d67-d77f-f81d30659a0d"
      },
      "source": [
        "F1"
      ],
      "execution_count": 24,
      "outputs": [
        {
          "output_type": "execute_result",
          "data": {
            "text/plain": [
              "array([[1.        ,        nan,        nan],\n",
              "       [       nan, 0.90909091, 0.1       ],\n",
              "       [       nan,        nan, 0.96296296]])"
            ]
          },
          "metadata": {
            "tags": []
          },
          "execution_count": 24
        }
      ]
    },
    {
      "cell_type": "code",
      "metadata": {
        "colab": {
          "base_uri": "https://localhost:8080/"
        },
        "id": "ZLKHpgFZJMow",
        "outputId": "5252d584-e0f0-4654-94bd-36b46fecb41f"
      },
      "source": [
        "from sklearn.metrics import classification_report\r\n",
        "print(classification_report(Ytst,Ypred))"
      ],
      "execution_count": 25,
      "outputs": [
        {
          "output_type": "stream",
          "text": [
            "              precision    recall  f1-score   support\n",
            "\n",
            "           0       1.00      1.00      1.00        11\n",
            "           1       1.00      0.83      0.91         6\n",
            "           2       0.93      1.00      0.96        13\n",
            "\n",
            "    accuracy                           0.97        30\n",
            "   macro avg       0.98      0.94      0.96        30\n",
            "weighted avg       0.97      0.97      0.97        30\n",
            "\n"
          ],
          "name": "stdout"
        }
      ]
    },
    {
      "cell_type": "code",
      "metadata": {
        "id": "tUPf7ETxJsms"
      },
      "source": [
        ""
      ],
      "execution_count": null,
      "outputs": []
    }
  ]
}